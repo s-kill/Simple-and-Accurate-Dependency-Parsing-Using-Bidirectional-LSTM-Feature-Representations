{
  "nbformat": 4,
  "nbformat_minor": 0,
  "metadata": {
    "colab": {
      "provenance": []
    },
    "kernelspec": {
      "name": "python3",
      "display_name": "Python 3"
    }
  },
  "cells": [
    {
      "cell_type": "code",
      "metadata": {
        "colab": {
          "base_uri": "https://localhost:8080/"
        },
        "id": "Ol63VaRlrHu6",
        "outputId": "0b18d4d2-44e9-4661-ef00-e0e825c53fe6"
      },
      "source": [
        "!pip install conllu\n",
        "!wget https://lindat.mff.cuni.cz/repository/xmlui/bitstream/handle/11234/1-3105/ud-treebanks-v2.5.tgz\n",
        "!wget https://www.ida.liu.se/~TDDE09/commons/projectivize.py\n",
        "!tar zxf ud-treebanks-v2.5.tgz\n",
        "\n",
        "import os\n",
        "import torch\n",
        "import projectivize\n",
        "import torch.nn as nn\n",
        "from io import open\n",
        "from conllu import parse_incr\n",
        "import copy\n",
        "import operator\n",
        "import torch.nn.functional as F\n",
        "import torch.optim as optim\n",
        "import tqdm\n",
        "import matplotlib.pyplot as plt\n",
        "import numpy as np\n",
        "import subprocess"
      ],
      "execution_count": null,
      "outputs": [
        {
          "output_type": "stream",
          "text": [
            "Collecting conllu\n",
            "  Downloading https://files.pythonhosted.org/packages/ae/be/be6959c3ff2dbfdd87de4be0ccdff577835b5d08b1d25bf7fd4aaf0d7add/conllu-4.4-py2.py3-none-any.whl\n",
            "Installing collected packages: conllu\n",
            "Successfully installed conllu-4.4\n",
            "--2021-03-10 14:36:02--  https://lindat.mff.cuni.cz/repository/xmlui/bitstream/handle/11234/1-3105/ud-treebanks-v2.5.tgz\n",
            "Resolving lindat.mff.cuni.cz (lindat.mff.cuni.cz)... 195.113.20.140\n",
            "Connecting to lindat.mff.cuni.cz (lindat.mff.cuni.cz)|195.113.20.140|:443... connected.\n",
            "HTTP request sent, awaiting response... 200 OK\n",
            "Length: 355216681 (339M) [application/x-gzip]\n",
            "Saving to: ‘ud-treebanks-v2.5.tgz’\n",
            "\n",
            "ud-treebanks-v2.5.t 100%[===================>] 338.76M  25.1MB/s    in 15s     \n",
            "\n",
            "2021-03-10 14:36:18 (23.2 MB/s) - ‘ud-treebanks-v2.5.tgz’ saved [355216681/355216681]\n",
            "\n",
            "--2021-03-10 14:36:19--  https://www.ida.liu.se/~TDDE09/commons/projectivize.py\n",
            "Resolving www.ida.liu.se (www.ida.liu.se)... 130.236.57.103, 2001:6b0:17:2004::57:103\n",
            "Connecting to www.ida.liu.se (www.ida.liu.se)|130.236.57.103|:443... connected.\n",
            "HTTP request sent, awaiting response... 200 OK\n",
            "Length: 2878 (2.8K)\n",
            "Saving to: ‘projectivize.py’\n",
            "\n",
            "projectivize.py     100%[===================>]   2.81K  --.-KB/s    in 0s      \n",
            "\n",
            "2021-03-10 14:36:20 (107 MB/s) - ‘projectivize.py’ saved [2878/2878]\n",
            "\n"
          ],
          "name": "stdout"
        }
      ]
    },
    {
      "cell_type": "code",
      "metadata": {
        "colab": {
          "base_uri": "https://localhost:8080/"
        },
        "id": "Vj5IY3Wq4xxp",
        "outputId": "29782f80-61e4-4c75-e850-53d25933ba31"
      },
      "source": [
        " device = torch.device('cuda' if torch.cuda.is_available() else 'cpu')\n",
        " print(device)"
      ],
      "execution_count": null,
      "outputs": [
        {
          "output_type": "stream",
          "text": [
            "cpu\n"
          ],
          "name": "stdout"
        }
      ]
    },
    {
      "cell_type": "code",
      "metadata": {
        "id": "OY7fPUyCrJA8"
      },
      "source": [
        "#polish train data = UD_Polish-PDB/pl_pdb-ud-train.conllu\n",
        "#english train data = UD_English-GUM/en_gum-ud-train.conllu\n",
        "\n",
        "#arabic train data = UD_Arabic-PADT/ar_padt-ud-train.conllu\n",
        "#arabic dev data = UD_Arabic-PADT/ar_padt-ud-dev.conllu\n",
        "\n",
        "def datafiles(filename):\n",
        "  data_file = open(filename, \"r\", encoding=\"utf-8\")\n",
        "  ud_files = []\n",
        "  for tokenlist in parse_incr(data_file):\n",
        "    ud_files.append(tokenlist)\n",
        "  data = []\n",
        "  for sentence in ud_files:\n",
        "    current_sentence = []\n",
        "    for token in sentence:\n",
        "      current_token = []\n",
        "      current_token.append(token['form'])\n",
        "      current_token.append(token['upostag'])\n",
        "      current_sentence.append(tuple(current_token))\n",
        "    data.append(current_sentence)\n",
        "  return data\n",
        "\n",
        "#Arabic\n",
        "arabic_train_data = datafiles(\"ud-treebanks-v2.5/UD_Arabic-PADT/ar_padt-ud-train.conllu\")\n",
        "arabic_dev_data = datafiles(\"ud-treebanks-v2.5/UD_Arabic-PADT/ar_padt-ud-dev.conllu\")\n",
        "#English\n",
        "english_train_data = datafiles(\"ud-treebanks-v2.5/UD_English-GUM/en_gum-ud-train.conllu\")\n",
        "english_dev_data = datafiles(\"ud-treebanks-v2.5/UD_English-GUM/en_gum-ud-dev.conllu\")"
      ],
      "execution_count": null,
      "outputs": []
    },
    {
      "cell_type": "code",
      "metadata": {
        "colab": {
          "base_uri": "https://localhost:8080/"
        },
        "id": "MyhIwDYdtGY0",
        "outputId": "ca185fc7-c32d-4273-a6e9-451275efe0ff"
      },
      "source": [
        "print(\"Data Examples\")\n",
        "print(english_train_data[0])\n",
        "print(arabic_train_data[0])\n",
        "#We are not really using this dataset so move on haha"
      ],
      "execution_count": null,
      "outputs": [
        {
          "output_type": "stream",
          "text": [
            "Data Examples\n",
            "[('Aesthetic', 'ADJ'), ('Appreciation', 'NOUN'), ('and', 'CCONJ'), ('Spanish', 'ADJ'), ('Art', 'NOUN'), (':', 'PUNCT')]\n",
            "[('برلين', 'X'), ('ترفض', 'VERB'), ('حصول', 'NOUN'), ('شركة', 'NOUN'), ('اميركية', 'ADJ'), ('على', 'ADP'), ('رخصة', 'NOUN'), ('تصنيع', 'NOUN'), ('دبابة', 'NOUN'), ('\"', 'PUNCT'), ('ليوبارد', 'X'), ('\"', 'PUNCT'), ('الالمانية', 'ADJ')]\n"
          ],
          "name": "stdout"
        }
      ]
    },
    {
      "cell_type": "code",
      "metadata": {
        "id": "E77Zl5DptABb"
      },
      "source": [
        "#Dataset Class\n",
        "class Dataset():\n",
        "\n",
        "    ROOT = ('<root>', '<root>', 0)  # Pseudo-root\n",
        "\n",
        "    def __init__(self, filename):\n",
        "        self.filename = filename\n",
        "\n",
        "    def __iter__(self):\n",
        "        with open(self.filename, 'rt', encoding='utf-8') as lines:\n",
        "            tmp = [Dataset.ROOT]\n",
        "            for line in lines:\n",
        "                if not line.startswith('#'):  # Skip lines with comments\n",
        "                    line = line.rstrip()\n",
        "                    if line:\n",
        "                        columns = line.split('\\t')\n",
        "                        if columns[0].isdigit():  # Skip range tokens\n",
        "                            tmp.append((columns[1], columns[3], int(columns[6])))\n",
        "                    else:\n",
        "                        yield tmp\n",
        "                        tmp = [Dataset.ROOT]"
      ],
      "execution_count": null,
      "outputs": []
    },
    {
      "cell_type": "code",
      "metadata": {
        "colab": {
          "base_uri": "https://localhost:8080/"
        },
        "id": "SFvxD9Ultqdf",
        "outputId": "1685b92f-df8a-44f6-e1cc-63ab17736a9a"
      },
      "source": [
        "dep_train_english_data = Dataset(\"ud-treebanks-v2.5/UD_English-GUM/en_gum-ud-train.conllu\")\n",
        "dep_dev_english_data = Dataset(\"ud-treebanks-v2.5/UD_English-GUM/en_gum-ud-dev.conllu\")\n",
        "#Example sentence list\n",
        "print(list(dep_train_english_data)[0])"
      ],
      "execution_count": null,
      "outputs": [
        {
          "output_type": "stream",
          "text": [
            "[('<root>', '<root>', 0), ('Aesthetic', 'ADJ', 2), ('Appreciation', 'NOUN', 0), ('and', 'CCONJ', 5), ('Spanish', 'ADJ', 5), ('Art', 'NOUN', 2), (':', 'PUNCT', 2)]\n"
          ],
          "name": "stdout"
        }
      ]
    },
    {
      "cell_type": "code",
      "metadata": {
        "id": "EJhDmpBHxZsz"
      },
      "source": [
        "PAD = '<pad>'\n",
        "UNK = '<unk>'\n",
        "def make_vocabs_head_tagger(gold_data):\n",
        "    words = {PAD:0, UNK:1}\n",
        "    tags =  {PAD:0}\n",
        "\n",
        "    word_i = 2\n",
        "    tag_i = 1\n",
        "\n",
        "    for sentence in gold_data:\n",
        "      for word,tag, _ in sentence:\n",
        "        if tag not in tags:\n",
        "          tags[tag] = tag_i\n",
        "          tag_i +=1\n",
        "        if word not in words:\n",
        "          words[word] = word_i\n",
        "          word_i +=1\n",
        "\n",
        "    return words, tags"
      ],
      "execution_count": null,
      "outputs": []
    },
    {
      "cell_type": "code",
      "metadata": {
        "id": "dinMej5_xttP"
      },
      "source": [
        "word_vocab, tag_vocab = make_vocabs_head_tagger(dep_train_english_data)"
      ],
      "execution_count": null,
      "outputs": []
    },
    {
      "cell_type": "code",
      "metadata": {
        "id": "ZEwiVE2my7WK"
      },
      "source": [
        "#Arc Parser and oracle move implementation\n",
        "class Parser(object):\n",
        "\n",
        "    def predict(self, words, tags):\n",
        "        raise NotImplementedError\n",
        "\n",
        "class ArcStandardParser(Parser):\n",
        "\n",
        "    MOVES = tuple(range(3))\n",
        "\n",
        "    SH, LA, RA = MOVES  # Parser moves are specified as integers.\n",
        "\n",
        "    @staticmethod\n",
        "    def initial_config(num_words):\n",
        "        # Replaced the next line with our own code\n",
        "        i = 0\n",
        "        stack = []\n",
        "        heads = [0]*num_words\n",
        "        return (i,stack,heads)\n",
        "\n",
        "    @staticmethod\n",
        "    def valid_moves(config):\n",
        "        # Replaced the next line with our own code\n",
        "        (SH, LA, RA) = ArcStandardParser.MOVES\n",
        "        (i, stack, heads) = config[:]\n",
        "        valid_moves = []\n",
        "        if i < len(heads):\n",
        "            valid_moves.append(SH)\n",
        "        if len(stack) > 1:\n",
        "            valid_moves.append(LA)\n",
        "            valid_moves.append(RA)\n",
        "        return valid_moves\n",
        "\n",
        "    @staticmethod\n",
        "    def next_config(config, move):\n",
        "        # Replaced the next line with our own code\n",
        "        (SH, LA, RA) = ArcStandardParser.MOVES\n",
        "        i = config[0]\n",
        "        stack = config[1][:]\n",
        "        heads = config[2][:]\n",
        "        if move == SH:\n",
        "            stack.append(i)\n",
        "            i += 1\n",
        "        elif move == LA:\n",
        "            head = stack[-1]\n",
        "            word = stack.pop(-2)\n",
        "            heads[word] = head\n",
        "        elif move == RA:\n",
        "            head = stack[-2]\n",
        "            word = stack.pop(-1)\n",
        "            heads[word] = head\n",
        "        return (i,stack,heads)\n",
        "\n",
        "    @staticmethod\n",
        "    def is_final_config(config):\n",
        "        # Replaced the next line with our own code\n",
        "        return len(ArcStandardParser.valid_moves(config)) < 1\n",
        "\n",
        "#new oracle 2\n",
        "def has_no_remaining_arcs(word, config, gold_heads):\n",
        "    return config[2].count(word) == gold_heads.count(word)\n",
        "\n",
        "def oracle_moves(gold_heads):\n",
        "    parser = ArcStandardParser()\n",
        "    (SH, LA, RA) = parser.MOVES\n",
        "    config = parser.initial_config(len(gold_heads))\n",
        "    oracle_moves = []\n",
        "    while not parser.is_final_config(config):\n",
        "        valid_moves = parser.valid_moves(config)\n",
        "        if LA in valid_moves: #LA condition is the same as RA\n",
        "            i_la, stack_la, heads_la = parser.next_config(config, LA) #i_la, stack_la, heads_la=config_LA\n",
        "            i_ra, stack_ra, heads_ra = parser.next_config(config, RA) #i_ra, stack_ra, heads_ra=config_RA\n",
        "            secmost = config[1][-2]\n",
        "            topmost = config[1][-1]\n",
        "            if(gold_heads[secmost] == heads_la[secmost] and has_no_remaining_arcs(secmost, config, gold_heads)):\n",
        "            #if(gold_heads[secmost] == heads_la[secmost]):   #This line gets same results\n",
        "                yield (config, LA)\n",
        "                config = (i_la, stack_la, heads_la)\n",
        "                continue\n",
        "\n",
        "            elif(gold_heads[topmost] == heads_ra[topmost] and has_no_remaining_arcs(topmost, config, gold_heads)):\n",
        "                yield (config, RA)\n",
        "                config = (i_ra, stack_ra, heads_ra)\n",
        "                continue\n",
        "\n",
        "        if SH in valid_moves: #Same as using else instead os if sh...\n",
        "            yield (config, SH)\n",
        "            config = parser.next_config(config, SH)\n",
        "\n",
        "        else: #?\n",
        "            print(\"?\")\n",
        "            break"
      ],
      "execution_count": null,
      "outputs": []
    },
    {
      "cell_type": "code",
      "metadata": {
        "id": "qXJE30lvtllr"
      },
      "source": [
        "#biLSTM concatenate words and tags (xi=e(wi)◦e(pi)) so there is no need to add ps2,1,0 here\n",
        "def get_feats(config, word_ids):\n",
        "  b, s, h = config\n",
        "\n",
        "  vs2, vs1, vs0 = [0,0,0]\n",
        "  b0 = 0\n",
        "  if(b!=0):\n",
        "    b0 = b - 1\n",
        "  if(len(s) == 1):\n",
        "    vs0 = max(s[-1] - 1 , 0) #if s[-1] == 0 (-1) and s[-1] == 1 (0) => vs0 = 0 ('<root>')\n",
        "\n",
        "  elif(len(s) == 2):\n",
        "    vs0 = max(s[-1] - 1 , 0)\n",
        "    vs1 = max(s[-2] - 1 , 0)\n",
        "\n",
        "  elif(len(s) >= 3):\n",
        "    vs0 = max(s[-1] - 1 , 0)\n",
        "    vs1 = max(s[-2] - 1 , 0)\n",
        "    vs2 = max(s[-3] - 1 , 0)\n",
        "\n",
        "  feats_from_config = [vs2, vs1, vs0, b0] #Index of vs2, vs1, vs0, bs0 from config\n",
        "  feats_torch = torch.LongTensor(feats_from_config) #torch.Size([1, 4])\n",
        "  return torch.LongTensor(feats_torch)"
      ],
      "execution_count": null,
      "outputs": []
    },
    {
      "cell_type": "code",
      "metadata": {
        "id": "-qAipAmguJ11"
      },
      "source": [
        "def training_example(vocab_words, vocab_tags, gold_data):\n",
        "    for sentence in gold_data: #[('<root>', '<root>', 0), ('Aesthetic', 'ADJ', 2), ('Appreciation', 'NOUN', 0), ('and', 'CCONJ', 5), ('Spanish', 'ADJ', 5), ('Art', 'NOUN', 2), (':', 'PUNCT', 2)]\n",
        "        word_ids, tag_ids, gold_heads = [], [], []\n",
        "        moves = []\n",
        "        idxs = []\n",
        "        #create id-lists for the current sentence\n",
        "        for tup in (sentence):\n",
        "            word_ids.append(vocab_words[tup[0]]) # Ids of ['<root>', 'Aesthetic'... ]\n",
        "            tag_ids.append(vocab_tags[tup[1]]) # Ids of ['<root>', 'ADJ'... ]\n",
        "            gold_heads.append(tup[2]) #[0, 2, ...]\n",
        "\n",
        "        for config, move in oracle_moves(gold_heads): #for each sentence we get oracle moves\n",
        "            idx_feats = get_feats(config, word_ids) #long_tensor([vs0, vs1, vs2, b0]))\n",
        "            idxs.append(idx_feats)\n",
        "            moves.append(move)\n",
        "\n",
        "        yield torch.LongTensor(word_ids).unsqueeze(0), torch.LongTensor(tag_ids).unsqueeze(0), torch.stack(idxs), torch.LongTensor(moves)"
      ],
      "execution_count": null,
      "outputs": []
    },
    {
      "cell_type": "code",
      "metadata": {
        "colab": {
          "base_uri": "https://localhost:8080/"
        },
        "id": "MxtNZKa6xMeA",
        "outputId": "1e8e4a2c-8f5c-41e7-a965-89a9eaea4ed3"
      },
      "source": [
        "#Example of one sentence in training example function\n",
        "w_ids, t_ids, f_idx, mov = next(training_example(word_vocab, tag_vocab, dep_train_english_data))\n",
        "print(\"word ids: \",w_ids)\n",
        "print(\"tag ids: \",t_ids)\n",
        "print(\"mlp features indexs: \" ,f_idx.shape)\n",
        "print(\"force trinning moves: \", mov.shape)"
      ],
      "execution_count": null,
      "outputs": [
        {
          "output_type": "stream",
          "text": [
            "word ids:  tensor([[2, 3, 4, 5, 6, 7, 8]])\n",
            "tag ids:  tensor([[1, 2, 3, 4, 2, 3, 5]])\n",
            "mlp features indexs:  torch.Size([13, 4])\n",
            "force trinning moves:  torch.Size([13])\n"
          ],
          "name": "stdout"
        }
      ]
    },
    {
      "cell_type": "code",
      "metadata": {
        "id": "b3z3XDps2obs"
      },
      "source": [
        "#\"Encoder\" Implementation\n",
        "class BiLSTM(nn.Module):\n",
        "    def __init__(self, num_words, num_pos, word_emb_dim = 100, pos_emb_dim=25, hidden_dim = 125, n_layers=2):\n",
        "        super().__init__()\n",
        "        # for the BiLSTM\n",
        "        self.ew = nn.Embedding(num_words, word_emb_dim)\n",
        "        self.ep = nn.Embedding(num_pos, pos_emb_dim)\n",
        "        self.bi_lstm = nn.LSTM(word_emb_dim + pos_emb_dim, hidden_dim, num_layers = n_layers, batch_first=True, bidirectional = True)\n",
        "\n",
        "    def forward(self, word, pos):\n",
        "        ew = self.ew(word)            # Shape: [Batch_size, n_words, word_emb_dim]\n",
        "        ep = self.ep(pos)             # Shape: [Batch_size, n_words, pos_emb_dim]\n",
        "        x = torch.cat((ew, ep), 2)    # Shape: [Batch_size, n_words, word_emb_dim + pos_emb_dim]\n",
        "        output, _ = self.bi_lstm(x)   # Shape: [Batch_size, n_words, 2*(word_emb_dim + pos_emb_dim)]\n",
        "\n",
        "        return output"
      ],
      "execution_count": null,
      "outputs": []
    },
    {
      "cell_type": "code",
      "metadata": {
        "colab": {
          "base_uri": "https://localhost:8080/"
        },
        "id": "EtdMEODn47p2",
        "outputId": "65082e76-7883-49e6-f636-fedbca981dfd"
      },
      "source": [
        "#w_ids, t_ids, g_heads sentence example\n",
        "model_lstm = BiLSTM(len(word_vocab), len(tag_vocab))\n",
        "test_output = model_lstm.forward(w_ids, t_ids)\n",
        "print(\"Shape BiLSTM feats: \",test_output.shape)"
      ],
      "execution_count": null,
      "outputs": [
        {
          "output_type": "stream",
          "text": [
            "Shape BiLSTM feats:  torch.Size([1, 7, 250])\n"
          ],
          "name": "stdout"
        }
      ]
    },
    {
      "cell_type": "code",
      "metadata": {
        "id": "GaA-SGT89m36"
      },
      "source": [
        "class MLP(nn.Module):\n",
        "    def __init__(self, word_emb_dim = 100, pos_emb_dim=25, hidden_unit = 100, output_dim = 3):\n",
        "        super().__init__()\n",
        "        self.hidden = nn.Linear(4*2*(word_emb_dim + pos_emb_dim), hidden_unit)\n",
        "        self.relu = nn.ReLU() # try relu\n",
        "        self.output = nn.Linear(hidden_unit, output_dim)\n",
        "\n",
        "    def forward(self, features):\n",
        "        hn = self.hidden(features)\n",
        "        out = self.output(self.relu(hn))\n",
        "\n",
        "        return out"
      ],
      "execution_count": null,
      "outputs": []
    },
    {
      "cell_type": "code",
      "metadata": {
        "colab": {
          "base_uri": "https://localhost:8080/"
        },
        "id": "ju03_nBS-_Zi",
        "outputId": "f19cc355-7ec2-4c6d-d865-29d68f21ad4b"
      },
      "source": [
        "#Example of MLP\n",
        "#feats_from_config is a list of list of index bc each list represent a sentence, in this case batch_size = 1 so [[ words ]]\n",
        "#this is for no batch (we are using this one)\n",
        "print(\"Example for no batch | biLSTM output shape: \", test_output.shape)\n",
        "feats_from_config = [0, 3, 4, 5] #Index of vs2, vs1, vs0, bs0 from config\n",
        "feats_torch = torch.LongTensor(feats_from_config) #torch.Size([1, 4])\n",
        "test_input_mlp = test_output.index_select(1, feats_torch)\n",
        "print(\"Shape input for mlp: \" ,test_input_mlp.shape)\n",
        "test_input_mlp = test_input_mlp.view(-1,test_input_mlp.size(1)*test_input_mlp.size(2))\n",
        "print(\"Concat embeds shape: \", test_input_mlp.shape)\n",
        "\n",
        "print(\"#################################\")\n",
        "\n",
        "#Batch size > 1 case\n",
        "test_output2 = torch.cat((test_output,test_output), 0)\n",
        "print(\"Example for batch feats | biLSTM output shape: \", test_output2.shape)\n",
        "feats_from_config2 = [[0, 3, 4, 5], [0, 3, 4, 5]]\n",
        "feats_torch2 = torch.LongTensor(feats_from_config2)\n",
        "indexs = feats_torch2.unsqueeze(2).expand(feats_torch2.size(0), feats_torch2.size(1), test_output2.size(2))\n",
        "test_input_mlp2 = torch.gather(test_output2, 1, indexs)\n",
        "print(\"Shape input for mlp: \" ,test_input_mlp2.shape)\n",
        "test_input_mlp2 = test_input_mlp2.view(-1,test_input_mlp2.size(1)*test_input_mlp2.size(2))\n",
        "print(\"Concat embeds shape: \",test_input_mlp2.shape)\n",
        "\n",
        "print(\"################################\")\n",
        "#Case 3 (list of list of index for one sentence (batch=1))\n",
        "#Every list of index represent the setting for a move, in this case 2\n",
        "test_output3 = test_output\n",
        "print(\"Example for no batch | biLSTM output shape: \", test_output3.shape)\n",
        "feats_from_config3 = [[0, 3, 4, 5], [0, 3, 4, 5]]\n",
        "feats_torch3 = torch.LongTensor(feats_from_config3) #torch.Size([2, 4])\n",
        "test_input_mlp3 = [test_output3.index_select(1, idxs) for idxs in feats_torch3]\n",
        "test_input_mlp3 = torch.stack(test_input_mlp3)\n",
        "test_input_mlp3 = test_input_mlp3.squeeze(1)\n",
        "print(\"Shape input for mlp: \" ,test_input_mlp3.shape)\n",
        "test_input_mlp3 = test_input_mlp3.view(-1,test_input_mlp3.size(1)*test_input_mlp3.size(2))\n",
        "print(\"Concat embeds shape: \", test_input_mlp3.shape)"
      ],
      "execution_count": null,
      "outputs": [
        {
          "output_type": "stream",
          "text": [
            "Example for no batch | biLSTM output shape:  torch.Size([1, 7, 250])\n",
            "Shape input for mlp:  torch.Size([1, 4, 250])\n",
            "Concat embeds shape:  torch.Size([1, 1000])\n",
            "#################################\n",
            "Example for batch feats | biLSTM output shape:  torch.Size([2, 7, 250])\n",
            "Shape input for mlp:  torch.Size([2, 4, 250])\n",
            "Concat embeds shape:  torch.Size([2, 1000])\n",
            "################################\n",
            "Example for no batch | biLSTM output shape:  torch.Size([1, 7, 250])\n",
            "Shape input for mlp:  torch.Size([2, 4, 250])\n",
            "Concat embeds shape:  torch.Size([2, 1000])\n"
          ],
          "name": "stdout"
        }
      ]
    },
    {
      "cell_type": "code",
      "metadata": {
        "colab": {
          "base_uri": "https://localhost:8080/"
        },
        "id": "tb0tbNR_JETJ",
        "outputId": "2b5f41ae-a202-4682-e805-ebd6175cf487"
      },
      "source": [
        "# example data features = test_input_mlp2\n",
        "model_MLP = MLP()\n",
        "test_output_mlp = model_MLP.forward(test_input_mlp)\n",
        "print(\"Shape BiLSTM feats: \",test_output_mlp.shape)\n",
        "test_output_mlp2 = model_MLP.forward(test_input_mlp2)\n",
        "print(\"Shape BiLSTM feats: \",test_output_mlp2.shape)"
      ],
      "execution_count": null,
      "outputs": [
        {
          "output_type": "stream",
          "text": [
            "Shape BiLSTM feats:  torch.Size([1, 3])\n",
            "Shape BiLSTM feats:  torch.Size([2, 3])\n"
          ],
          "name": "stdout"
        }
      ]
    },
    {
      "cell_type": "code",
      "metadata": {
        "id": "g3eQJK2WBu0c"
      },
      "source": [
        "class Blackbox(nn.Module): #need to change name lol haha\n",
        "    def __init__(self, vocab_words, vocab_tags, num_words, num_pos):\n",
        "        super().__init__()\n",
        "\n",
        "        self.model_lstm = BiLSTM(num_words, num_pos)\n",
        "        self.model_MLP = MLP()\n",
        "        self.vocab_words = vocab_words\n",
        "        self.vocab_tags = vocab_tags\n",
        "\n",
        "    def forward(self, word_ids, pos_ids, idxs_feats):\n",
        "        lstm_output = self.model_lstm.forward(word_ids, pos_ids) #biLSTM output shape:  torch.Size([1, 7, 250])\n",
        "        #input_mlp = lstm_output.index_select(1, idxs_feats) #Shape input for mlp:  torch.Size([1, 4, 250])\n",
        "        input_mlp = [lstm_output.index_select(1, idxs) for idxs in idxs_feats] #len(n) = moves\n",
        "        input_mlp = torch.stack(input_mlp) #to tensor\n",
        "        input_mlp = input_mlp.squeeze(1) #shape tesnro ([n, 4, 250]) where n: moves\n",
        "        input_mlp = input_mlp.view(-1,input_mlp.size(1)*input_mlp.size(2)) #Concat embeds shape:  torch.Size([n, 1000])\n",
        "        output_mlp = self.model_MLP.forward(input_mlp) #torch.Size([n, 3])\n",
        "\n",
        "        return output_mlp\n",
        "\n",
        "    def predict(self, words, tags):\n",
        "        for idx, (w, t) in enumerate(zip(words,tags)): #words string to words ids\n",
        "            if w in self.vocab_words:\n",
        "                words[idx] = self.vocab_words[w]\n",
        "            else:\n",
        "                words[idx] = self.vocab_words['<unk>']\n",
        "            if t in self.vocab_tags:\n",
        "                tags[idx] = self.vocab_tags[t]\n",
        "            else:\n",
        "                tags[idx] = self.vocab_tags['<pad>']\n",
        "\n",
        "        config = ArcStandardParser.initial_config(len(words))\n",
        "        while not ArcStandardParser.is_final_config(config):\n",
        "            idx_feats = get_feats(config, words) #take features #idx_feats = get_feats(config, word_ids) #long_tensor([vs0, vs1, vs2, b0]))\n",
        "            valid_moves = ArcStandardParser.valid_moves(config)\n",
        "\n",
        "            with torch.no_grad():\n",
        "                output_move = torch.argmax(self.forward(words, tags, idx_feats)) #output_mlp = self.forward(words, tags, idx_feats)\n",
        "            if(output_move in valid_moves):\n",
        "                config = parser.next_config(config, output_move)\n",
        "            else:\n",
        "                config = parser.next_config(config, valid_moves[-1])\n",
        "\n",
        "        return config[2]"
      ],
      "execution_count": null,
      "outputs": []
    },
    {
      "cell_type": "code",
      "metadata": {
        "id": "trlQhiYdex_A"
      },
      "source": [
        "import torch\n",
        "import torch.nn.functional as F\n",
        "import torch.optim as optim\n",
        "import tqdm\n",
        "torch.autograd.set_detect_anomaly(True)\n",
        "\n",
        "def train_model(train_data, n_epochs = 1, batch_size = 0, lr=1e-2):\n",
        "    word_vocab, tag_vocab = make_vocabs_head_tagger(train_data)\n",
        "    model = Blackbox(word_vocab, tag_vocab, len(word_vocab), len(tag_vocab)) #  model_lstm = BiLSTM(len(word_vocab), len(tag_vocab)) |  model_MLP = MLP()\n",
        "    #model.to(device)\n",
        "    # Initialize the optimizer\n",
        "    optimizer = optim.Adam(model.parameters(), lr=lr)\n",
        "\n",
        "    train_losses = []\n",
        "    dev_losses = []\n",
        "    dev_accuracies = []\n",
        "    info = {'dev loss': 0, 'dev acc': 0}\n",
        "    x = 0\n",
        "    with tqdm.tqdm(total=3753) as pbar: #len(dep_train_english_data) = 3753\n",
        "        for t in range(n_epochs):\n",
        "            model.train()\n",
        "            # start training\n",
        "            running_loss = 0\n",
        "            t_data = training_example(word_vocab, tag_vocab, train_data)\n",
        "\n",
        "            for w_ids, t_ids, f_idx, move in t_data: #This represet a sentence w_ids, t_ids, f_idx, mov\n",
        "                pbar.set_description(f'Sentence {x+1}')\n",
        "                optimizer.zero_grad()\n",
        "                output_mlp = model.forward(w_ids, t_ids, f_idx)\n",
        "                loss = F.cross_entropy(output_mlp, move)\n",
        "                loss.backward() #retain_graph=True\n",
        "                optimizer.step()\n",
        "\n",
        "                if(x%250 == 0):\n",
        "                    print(\"Loss: \"+str(loss.item()))\n",
        "\n",
        "                x += 1\n",
        "                pbar.update(1)\n",
        "                running_loss += loss.item()\n",
        "\n",
        "                train_losses.append(running_loss / x)\n",
        "\n",
        "                #if(x == 500): #Train only 500 sentences\n",
        "                #  break\n",
        "\n",
        "    return model"
      ],
      "execution_count": null,
      "outputs": []
    },
    {
      "cell_type": "code",
      "metadata": {
        "colab": {
          "base_uri": "https://localhost:8080/"
        },
        "id": "yCewM6MnBR68",
        "outputId": "84029add-ca75-4ffa-e0f4-28214591a582"
      },
      "source": [
        "#model_BB = train_model(dep_train_english_data) #UAS: 0.6553\n"
      ],
      "execution_count": null,
      "outputs": [
        {
          "output_type": "stream",
          "text": [
            "Sentence 3:   0%|          | 2/3753 [00:00<10:33,  5.92it/s]"
          ],
          "name": "stderr"
        },
        {
          "output_type": "stream",
          "text": [
            "Loss: 1.104910135269165\n"
          ],
          "name": "stdout"
        },
        {
          "output_type": "stream",
          "text": [
            "Sentence 7:   0%|          | 6/3753 [00:01<13:53,  4.49it/s]"
          ],
          "name": "stderr"
        },
        {
          "output_type": "stream",
          "text": [
            "?\n"
          ],
          "name": "stdout"
        },
        {
          "output_type": "stream",
          "text": [
            "Sentence 8:   0%|          | 7/3753 [00:01<14:29,  4.31it/s]"
          ],
          "name": "stderr"
        },
        {
          "output_type": "stream",
          "text": [
            "?\n"
          ],
          "name": "stdout"
        },
        {
          "output_type": "stream",
          "text": [
            "Sentence 14:   0%|          | 13/3753 [00:04<26:13,  2.38it/s]"
          ],
          "name": "stderr"
        },
        {
          "output_type": "stream",
          "text": [
            "?\n"
          ],
          "name": "stdout"
        },
        {
          "output_type": "stream",
          "text": [
            "Sentence 23:   1%|          | 22/3753 [00:09<37:16,  1.67it/s]"
          ],
          "name": "stderr"
        },
        {
          "output_type": "stream",
          "text": [
            "?\n"
          ],
          "name": "stdout"
        },
        {
          "output_type": "stream",
          "text": [
            "Sentence 27:   1%|          | 26/3753 [00:12<40:55,  1.52it/s]"
          ],
          "name": "stderr"
        },
        {
          "output_type": "stream",
          "text": [
            "?\n"
          ],
          "name": "stdout"
        },
        {
          "output_type": "stream",
          "text": [
            "Sentence 30:   1%|          | 29/3753 [00:15<46:57,  1.32it/s]"
          ],
          "name": "stderr"
        },
        {
          "output_type": "stream",
          "text": [
            "?\n"
          ],
          "name": "stdout"
        },
        {
          "output_type": "stream",
          "text": [
            "Sentence 32:   1%|          | 31/3753 [00:16<43:10,  1.44it/s]"
          ],
          "name": "stderr"
        },
        {
          "output_type": "stream",
          "text": [
            "?\n"
          ],
          "name": "stdout"
        },
        {
          "output_type": "stream",
          "text": [
            "Sentence 33:   1%|          | 32/3753 [00:17<50:12,  1.24it/s]"
          ],
          "name": "stderr"
        },
        {
          "output_type": "stream",
          "text": [
            "?\n"
          ],
          "name": "stdout"
        },
        {
          "output_type": "stream",
          "text": [
            "Sentence 34:   1%|          | 33/3753 [00:18<46:20,  1.34it/s]"
          ],
          "name": "stderr"
        },
        {
          "output_type": "stream",
          "text": [
            "?\n"
          ],
          "name": "stdout"
        },
        {
          "output_type": "stream",
          "text": [
            "Sentence 40:   1%|          | 39/3753 [00:22<39:22,  1.57it/s]"
          ],
          "name": "stderr"
        },
        {
          "output_type": "stream",
          "text": [
            "?\n"
          ],
          "name": "stdout"
        },
        {
          "output_type": "stream",
          "text": [
            "Sentence 41:   1%|          | 40/3753 [00:23<41:19,  1.50it/s]"
          ],
          "name": "stderr"
        },
        {
          "output_type": "stream",
          "text": [
            "?\n"
          ],
          "name": "stdout"
        },
        {
          "output_type": "stream",
          "text": [
            "Sentence 45:   1%|          | 44/3753 [00:25<40:01,  1.54it/s]"
          ],
          "name": "stderr"
        },
        {
          "output_type": "stream",
          "text": [
            "?\n"
          ],
          "name": "stdout"
        },
        {
          "output_type": "stream",
          "text": [
            "Sentence 87:   2%|▏         | 86/3753 [00:50<35:02,  1.74it/s]"
          ],
          "name": "stderr"
        },
        {
          "output_type": "stream",
          "text": [
            "?\n"
          ],
          "name": "stdout"
        },
        {
          "output_type": "stream",
          "text": [
            "Sentence 89:   2%|▏         | 88/3753 [00:51<33:12,  1.84it/s]"
          ],
          "name": "stderr"
        },
        {
          "output_type": "stream",
          "text": [
            "?\n"
          ],
          "name": "stdout"
        },
        {
          "output_type": "stream",
          "text": [
            "Sentence 94:   2%|▏         | 93/3753 [00:54<36:23,  1.68it/s]"
          ],
          "name": "stderr"
        },
        {
          "output_type": "stream",
          "text": [
            "?\n"
          ],
          "name": "stdout"
        },
        {
          "output_type": "stream",
          "text": [
            "Sentence 108:   3%|▎         | 107/3753 [01:00<29:22,  2.07it/s]"
          ],
          "name": "stderr"
        },
        {
          "output_type": "stream",
          "text": [
            "?\n"
          ],
          "name": "stdout"
        },
        {
          "output_type": "stream",
          "text": [
            "Sentence 129:   3%|▎         | 128/3753 [01:15<34:56,  1.73it/s]"
          ],
          "name": "stderr"
        },
        {
          "output_type": "stream",
          "text": [
            "?\n"
          ],
          "name": "stdout"
        },
        {
          "output_type": "stream",
          "text": [
            "Sentence 147:   4%|▍         | 146/3753 [01:25<34:28,  1.74it/s]"
          ],
          "name": "stderr"
        },
        {
          "output_type": "stream",
          "text": [
            "?\n"
          ],
          "name": "stdout"
        },
        {
          "output_type": "stream",
          "text": [
            "Sentence 166:   4%|▍         | 165/3753 [01:35<26:15,  2.28it/s]"
          ],
          "name": "stderr"
        },
        {
          "output_type": "stream",
          "text": [
            "?\n"
          ],
          "name": "stdout"
        },
        {
          "output_type": "stream",
          "text": [
            "Sentence 175:   5%|▍         | 174/3753 [01:38<22:34,  2.64it/s]"
          ],
          "name": "stderr"
        },
        {
          "output_type": "stream",
          "text": [
            "?\n"
          ],
          "name": "stdout"
        },
        {
          "output_type": "stream",
          "text": [
            "Sentence 202:   5%|▌         | 201/3753 [01:50<29:54,  1.98it/s]"
          ],
          "name": "stderr"
        },
        {
          "output_type": "stream",
          "text": [
            "?\n"
          ],
          "name": "stdout"
        },
        {
          "output_type": "stream",
          "text": [
            "Sentence 212:   6%|▌         | 211/3753 [01:55<21:28,  2.75it/s]"
          ],
          "name": "stderr"
        },
        {
          "output_type": "stream",
          "text": [
            "?\n"
          ],
          "name": "stdout"
        },
        {
          "output_type": "stream",
          "text": [
            "Sentence 252:   7%|▋         | 251/3753 [02:11<19:36,  2.98it/s]"
          ],
          "name": "stderr"
        },
        {
          "output_type": "stream",
          "text": [
            "Loss: 0.1818116158246994\n"
          ],
          "name": "stdout"
        },
        {
          "output_type": "stream",
          "text": [
            "Sentence 262:   7%|▋         | 261/3753 [02:18<59:01,  1.01s/it]"
          ],
          "name": "stderr"
        },
        {
          "output_type": "stream",
          "text": [
            "?\n"
          ],
          "name": "stdout"
        },
        {
          "output_type": "stream",
          "text": [
            "Sentence 267:   7%|▋         | 266/3753 [02:22<51:04,  1.14it/s]"
          ],
          "name": "stderr"
        },
        {
          "output_type": "stream",
          "text": [
            "?\n"
          ],
          "name": "stdout"
        },
        {
          "output_type": "stream",
          "text": [
            "Sentence 271:   7%|▋         | 270/3753 [02:26<46:02,  1.26it/s]"
          ],
          "name": "stderr"
        },
        {
          "output_type": "stream",
          "text": [
            "?\n"
          ],
          "name": "stdout"
        },
        {
          "output_type": "stream",
          "text": [
            "Sentence 275:   7%|▋         | 274/3753 [02:29<43:07,  1.34it/s]"
          ],
          "name": "stderr"
        },
        {
          "output_type": "stream",
          "text": [
            "?\n"
          ],
          "name": "stdout"
        },
        {
          "output_type": "stream",
          "text": [
            "Sentence 276:   7%|▋         | 275/3753 [02:31<56:41,  1.02it/s]"
          ],
          "name": "stderr"
        },
        {
          "output_type": "stream",
          "text": [
            "?\n"
          ],
          "name": "stdout"
        },
        {
          "output_type": "stream",
          "text": [
            "Sentence 288:   8%|▊         | 287/3753 [02:39<36:39,  1.58it/s]"
          ],
          "name": "stderr"
        },
        {
          "output_type": "stream",
          "text": [
            "?\n"
          ],
          "name": "stdout"
        },
        {
          "output_type": "stream",
          "text": [
            "Sentence 332:   9%|▉         | 331/3753 [03:01<23:33,  2.42it/s]"
          ],
          "name": "stderr"
        },
        {
          "output_type": "stream",
          "text": [
            "?\n"
          ],
          "name": "stdout"
        },
        {
          "output_type": "stream",
          "text": [
            "Sentence 341:   9%|▉         | 340/3753 [03:05<38:12,  1.49it/s]"
          ],
          "name": "stderr"
        },
        {
          "output_type": "stream",
          "text": [
            "?\n"
          ],
          "name": "stdout"
        },
        {
          "output_type": "stream",
          "text": [
            "Sentence 360:  10%|▉         | 359/3753 [03:16<37:17,  1.52it/s]"
          ],
          "name": "stderr"
        },
        {
          "output_type": "stream",
          "text": [
            "?\n"
          ],
          "name": "stdout"
        },
        {
          "output_type": "stream",
          "text": [
            "Sentence 367:  10%|▉         | 366/3753 [03:19<28:46,  1.96it/s]"
          ],
          "name": "stderr"
        },
        {
          "output_type": "stream",
          "text": [
            "?\n"
          ],
          "name": "stdout"
        },
        {
          "output_type": "stream",
          "text": [
            "Sentence 379:  10%|█         | 378/3753 [03:24<22:09,  2.54it/s]"
          ],
          "name": "stderr"
        },
        {
          "output_type": "stream",
          "text": [
            "?\n"
          ],
          "name": "stdout"
        },
        {
          "output_type": "stream",
          "text": [
            "Sentence 383:  10%|█         | 382/3753 [03:26<26:05,  2.15it/s]"
          ],
          "name": "stderr"
        },
        {
          "output_type": "stream",
          "text": [
            "?\n"
          ],
          "name": "stdout"
        },
        {
          "output_type": "stream",
          "text": [
            "Sentence 393:  10%|█         | 392/3753 [03:32<41:48,  1.34it/s]"
          ],
          "name": "stderr"
        },
        {
          "output_type": "stream",
          "text": [
            "?\n"
          ],
          "name": "stdout"
        },
        {
          "output_type": "stream",
          "text": [
            "Sentence 398:  11%|█         | 397/3753 [03:34<27:36,  2.03it/s]"
          ],
          "name": "stderr"
        },
        {
          "output_type": "stream",
          "text": [
            "?\n"
          ],
          "name": "stdout"
        },
        {
          "output_type": "stream",
          "text": [
            "Sentence 404:  11%|█         | 403/3753 [03:38<34:03,  1.64it/s]"
          ],
          "name": "stderr"
        },
        {
          "output_type": "stream",
          "text": [
            "?\n"
          ],
          "name": "stdout"
        },
        {
          "output_type": "stream",
          "text": [
            "Sentence 405:  11%|█         | 404/3753 [03:39<42:34,  1.31it/s]"
          ],
          "name": "stderr"
        },
        {
          "output_type": "stream",
          "text": [
            "?\n"
          ],
          "name": "stdout"
        },
        {
          "output_type": "stream",
          "text": [
            "Sentence 407:  11%|█         | 406/3753 [03:41<39:19,  1.42it/s]"
          ],
          "name": "stderr"
        },
        {
          "output_type": "stream",
          "text": [
            "?\n"
          ],
          "name": "stdout"
        },
        {
          "output_type": "stream",
          "text": [
            "Sentence 441:  12%|█▏        | 440/3753 [03:59<30:25,  1.81it/s]"
          ],
          "name": "stderr"
        },
        {
          "output_type": "stream",
          "text": [
            "?\n"
          ],
          "name": "stdout"
        },
        {
          "output_type": "stream",
          "text": [
            "Sentence 449:  12%|█▏        | 448/3753 [04:03<27:27,  2.01it/s]"
          ],
          "name": "stderr"
        },
        {
          "output_type": "stream",
          "text": [
            "?\n"
          ],
          "name": "stdout"
        },
        {
          "output_type": "stream",
          "text": [
            "Sentence 461:  12%|█▏        | 460/3753 [04:11<44:11,  1.24it/s]"
          ],
          "name": "stderr"
        },
        {
          "output_type": "stream",
          "text": [
            "?\n"
          ],
          "name": "stdout"
        },
        {
          "output_type": "stream",
          "text": [
            "Sentence 475:  13%|█▎        | 474/3753 [04:18<24:31,  2.23it/s]"
          ],
          "name": "stderr"
        },
        {
          "output_type": "stream",
          "text": [
            "?\n"
          ],
          "name": "stdout"
        },
        {
          "output_type": "stream",
          "text": [
            "Sentence 489:  13%|█▎        | 488/3753 [04:23<15:21,  3.54it/s]"
          ],
          "name": "stderr"
        },
        {
          "output_type": "stream",
          "text": [
            "?\n"
          ],
          "name": "stdout"
        },
        {
          "output_type": "stream",
          "text": [
            "Sentence 496:  13%|█▎        | 495/3753 [04:25<15:27,  3.51it/s]"
          ],
          "name": "stderr"
        },
        {
          "output_type": "stream",
          "text": [
            "?\n"
          ],
          "name": "stdout"
        },
        {
          "output_type": "stream",
          "text": [
            "Sentence 502:  13%|█▎        | 501/3753 [04:29<27:28,  1.97it/s]"
          ],
          "name": "stderr"
        },
        {
          "output_type": "stream",
          "text": [
            "Loss: 0.3046056628227234\n"
          ],
          "name": "stdout"
        },
        {
          "output_type": "stream",
          "text": [
            "Sentence 522:  14%|█▍        | 521/3753 [04:38<24:27,  2.20it/s]"
          ],
          "name": "stderr"
        },
        {
          "output_type": "stream",
          "text": [
            "?\n"
          ],
          "name": "stdout"
        },
        {
          "output_type": "stream",
          "text": [
            "Sentence 523:  14%|█▍        | 522/3753 [04:39<34:27,  1.56it/s]"
          ],
          "name": "stderr"
        },
        {
          "output_type": "stream",
          "text": [
            "?\n"
          ],
          "name": "stdout"
        },
        {
          "output_type": "stream",
          "text": [
            "Sentence 558:  15%|█▍        | 557/3753 [04:49<17:03,  3.12it/s]"
          ],
          "name": "stderr"
        },
        {
          "output_type": "stream",
          "text": [
            "?\n"
          ],
          "name": "stdout"
        },
        {
          "output_type": "stream",
          "text": [
            "Sentence 582:  15%|█▌        | 581/3753 [04:59<17:13,  3.07it/s]"
          ],
          "name": "stderr"
        },
        {
          "output_type": "stream",
          "text": [
            "?\n"
          ],
          "name": "stdout"
        },
        {
          "output_type": "stream",
          "text": [
            "Sentence 613:  16%|█▋        | 612/3753 [05:11<17:17,  3.03it/s]"
          ],
          "name": "stderr"
        },
        {
          "output_type": "stream",
          "text": [
            "?\n"
          ],
          "name": "stdout"
        },
        {
          "output_type": "stream",
          "text": [
            "Sentence 638:  17%|█▋        | 637/3753 [05:25<31:19,  1.66it/s]"
          ],
          "name": "stderr"
        },
        {
          "output_type": "stream",
          "text": [
            "?\n"
          ],
          "name": "stdout"
        },
        {
          "output_type": "stream",
          "text": [
            "Sentence 646:  17%|█▋        | 645/3753 [05:29<19:28,  2.66it/s]"
          ],
          "name": "stderr"
        },
        {
          "output_type": "stream",
          "text": [
            "?\n"
          ],
          "name": "stdout"
        },
        {
          "output_type": "stream",
          "text": [
            "Sentence 648:  17%|█▋        | 647/3753 [05:30<24:36,  2.10it/s]"
          ],
          "name": "stderr"
        },
        {
          "output_type": "stream",
          "text": [
            "?\n"
          ],
          "name": "stdout"
        },
        {
          "output_type": "stream",
          "text": [
            "Sentence 662:  18%|█▊        | 661/3753 [05:36<23:43,  2.17it/s]"
          ],
          "name": "stderr"
        },
        {
          "output_type": "stream",
          "text": [
            "?\n"
          ],
          "name": "stdout"
        },
        {
          "output_type": "stream",
          "text": [
            "Sentence 673:  18%|█▊        | 672/3753 [05:41<33:14,  1.54it/s]"
          ],
          "name": "stderr"
        },
        {
          "output_type": "stream",
          "text": [
            "?\n"
          ],
          "name": "stdout"
        },
        {
          "output_type": "stream",
          "text": [
            "Sentence 678:  18%|█▊        | 677/3753 [05:44<23:26,  2.19it/s]"
          ],
          "name": "stderr"
        },
        {
          "output_type": "stream",
          "text": [
            "?\n"
          ],
          "name": "stdout"
        },
        {
          "output_type": "stream",
          "text": [
            "Sentence 679:  18%|█▊        | 678/3753 [05:45<23:35,  2.17it/s]"
          ],
          "name": "stderr"
        },
        {
          "output_type": "stream",
          "text": [
            "?\n"
          ],
          "name": "stdout"
        },
        {
          "output_type": "stream",
          "text": [
            "Sentence 682:  18%|█▊        | 681/3753 [05:45<19:13,  2.66it/s]"
          ],
          "name": "stderr"
        },
        {
          "output_type": "stream",
          "text": [
            "?\n"
          ],
          "name": "stdout"
        },
        {
          "output_type": "stream",
          "text": [
            "Sentence 684:  18%|█▊        | 683/3753 [05:46<17:10,  2.98it/s]"
          ],
          "name": "stderr"
        },
        {
          "output_type": "stream",
          "text": [
            "?\n"
          ],
          "name": "stdout"
        },
        {
          "output_type": "stream",
          "text": [
            "Sentence 685:  18%|█▊        | 684/3753 [05:46<16:40,  3.07it/s]"
          ],
          "name": "stderr"
        },
        {
          "output_type": "stream",
          "text": [
            "?\n"
          ],
          "name": "stdout"
        },
        {
          "output_type": "stream",
          "text": [
            "Sentence 714:  19%|█▉        | 713/3753 [06:02<24:55,  2.03it/s]"
          ],
          "name": "stderr"
        },
        {
          "output_type": "stream",
          "text": [
            "?\n"
          ],
          "name": "stdout"
        },
        {
          "output_type": "stream",
          "text": [
            "Sentence 720:  19%|█▉        | 719/3753 [06:05<24:59,  2.02it/s]"
          ],
          "name": "stderr"
        },
        {
          "output_type": "stream",
          "text": [
            "?\n"
          ],
          "name": "stdout"
        },
        {
          "output_type": "stream",
          "text": [
            "Sentence 723:  19%|█▉        | 722/3753 [06:07<30:12,  1.67it/s]"
          ],
          "name": "stderr"
        },
        {
          "output_type": "stream",
          "text": [
            "?\n"
          ],
          "name": "stdout"
        },
        {
          "output_type": "stream",
          "text": [
            "Sentence 752:  20%|██        | 751/3753 [06:15<18:36,  2.69it/s]"
          ],
          "name": "stderr"
        },
        {
          "output_type": "stream",
          "text": [
            "Loss: 0.41958051919937134\n"
          ],
          "name": "stdout"
        },
        {
          "output_type": "stream",
          "text": [
            "Sentence 827:  22%|██▏       | 826/3753 [06:39<19:32,  2.50it/s]"
          ],
          "name": "stderr"
        },
        {
          "output_type": "stream",
          "text": [
            "?\n"
          ],
          "name": "stdout"
        },
        {
          "output_type": "stream",
          "text": [
            "Sentence 836:  22%|██▏       | 835/3753 [06:45<30:51,  1.58it/s]"
          ],
          "name": "stderr"
        },
        {
          "output_type": "stream",
          "text": [
            "?\n"
          ],
          "name": "stdout"
        },
        {
          "output_type": "stream",
          "text": [
            "Sentence 852:  23%|██▎       | 851/3753 [06:53<23:01,  2.10it/s]"
          ],
          "name": "stderr"
        },
        {
          "output_type": "stream",
          "text": [
            "?\n"
          ],
          "name": "stdout"
        },
        {
          "output_type": "stream",
          "text": [
            "Sentence 861:  23%|██▎       | 860/3753 [06:57<22:05,  2.18it/s]"
          ],
          "name": "stderr"
        },
        {
          "output_type": "stream",
          "text": [
            "?\n"
          ],
          "name": "stdout"
        },
        {
          "output_type": "stream",
          "text": [
            "Sentence 863:  23%|██▎       | 862/3753 [06:59<25:40,  1.88it/s]"
          ],
          "name": "stderr"
        },
        {
          "output_type": "stream",
          "text": [
            "?\n"
          ],
          "name": "stdout"
        },
        {
          "output_type": "stream",
          "text": [
            "Sentence 873:  23%|██▎       | 872/3753 [07:03<16:03,  2.99it/s]"
          ],
          "name": "stderr"
        },
        {
          "output_type": "stream",
          "text": [
            "?\n"
          ],
          "name": "stdout"
        },
        {
          "output_type": "stream",
          "text": [
            "Sentence 911:  24%|██▍       | 910/3753 [07:16<15:02,  3.15it/s]"
          ],
          "name": "stderr"
        },
        {
          "output_type": "stream",
          "text": [
            "?\n"
          ],
          "name": "stdout"
        },
        {
          "output_type": "stream",
          "text": [
            "Sentence 921:  25%|██▍       | 920/3753 [07:19<12:29,  3.78it/s]"
          ],
          "name": "stderr"
        },
        {
          "output_type": "stream",
          "text": [
            "?\n"
          ],
          "name": "stdout"
        },
        {
          "output_type": "stream",
          "text": [
            "Sentence 935:  25%|██▍       | 934/3753 [07:22<12:40,  3.71it/s]"
          ],
          "name": "stderr"
        },
        {
          "output_type": "stream",
          "text": [
            "?\n"
          ],
          "name": "stdout"
        },
        {
          "output_type": "stream",
          "text": [
            "Sentence 957:  25%|██▌       | 956/3753 [07:31<16:46,  2.78it/s]"
          ],
          "name": "stderr"
        },
        {
          "output_type": "stream",
          "text": [
            "?\n"
          ],
          "name": "stdout"
        },
        {
          "output_type": "stream",
          "text": [
            "Sentence 974:  26%|██▌       | 973/3753 [07:35<10:47,  4.29it/s]"
          ],
          "name": "stderr"
        },
        {
          "output_type": "stream",
          "text": [
            "?\n"
          ],
          "name": "stdout"
        },
        {
          "output_type": "stream",
          "text": [
            "Sentence 981:  26%|██▌       | 980/3753 [07:39<28:09,  1.64it/s]"
          ],
          "name": "stderr"
        },
        {
          "output_type": "stream",
          "text": [
            "?\n"
          ],
          "name": "stdout"
        },
        {
          "output_type": "stream",
          "text": [
            "Sentence 1002:  27%|██▋       | 1001/3753 [07:45<12:43,  3.60it/s]"
          ],
          "name": "stderr"
        },
        {
          "output_type": "stream",
          "text": [
            "Loss: 0.299110472202301\n"
          ],
          "name": "stdout"
        },
        {
          "output_type": "stream",
          "text": [
            "Sentence 1005:  27%|██▋       | 1004/3753 [07:47<17:44,  2.58it/s]"
          ],
          "name": "stderr"
        },
        {
          "output_type": "stream",
          "text": [
            "?\n"
          ],
          "name": "stdout"
        },
        {
          "output_type": "stream",
          "text": [
            "Sentence 1007:  27%|██▋       | 1006/3753 [07:48<25:23,  1.80it/s]"
          ],
          "name": "stderr"
        },
        {
          "output_type": "stream",
          "text": [
            "?\n"
          ],
          "name": "stdout"
        },
        {
          "output_type": "stream",
          "text": [
            "Sentence 1059:  28%|██▊       | 1058/3753 [08:01<08:54,  5.05it/s]"
          ],
          "name": "stderr"
        },
        {
          "output_type": "stream",
          "text": [
            "?\n"
          ],
          "name": "stdout"
        },
        {
          "output_type": "stream",
          "text": [
            "Sentence 1133:  30%|███       | 1132/3753 [08:24<15:09,  2.88it/s]"
          ],
          "name": "stderr"
        },
        {
          "output_type": "stream",
          "text": [
            "?\n"
          ],
          "name": "stdout"
        },
        {
          "output_type": "stream",
          "text": [
            "Sentence 1158:  31%|███       | 1157/3753 [08:33<18:30,  2.34it/s]"
          ],
          "name": "stderr"
        },
        {
          "output_type": "stream",
          "text": [
            "?\n"
          ],
          "name": "stdout"
        },
        {
          "output_type": "stream",
          "text": [
            "Sentence 1176:  31%|███▏      | 1175/3753 [08:40<12:25,  3.46it/s]"
          ],
          "name": "stderr"
        },
        {
          "output_type": "stream",
          "text": [
            "?\n"
          ],
          "name": "stdout"
        },
        {
          "output_type": "stream",
          "text": [
            "Sentence 1253:  33%|███▎      | 1252/3753 [09:00<09:40,  4.31it/s]"
          ],
          "name": "stderr"
        },
        {
          "output_type": "stream",
          "text": [
            "Loss: 0.15255439281463623\n"
          ],
          "name": "stdout"
        },
        {
          "output_type": "stream",
          "text": [
            "Sentence 1256:  33%|███▎      | 1255/3753 [09:01<15:21,  2.71it/s]"
          ],
          "name": "stderr"
        },
        {
          "output_type": "stream",
          "text": [
            "?\n"
          ],
          "name": "stdout"
        },
        {
          "output_type": "stream",
          "text": [
            "Sentence 1288:  34%|███▍      | 1287/3753 [09:10<12:48,  3.21it/s]"
          ],
          "name": "stderr"
        },
        {
          "output_type": "stream",
          "text": [
            "?\n"
          ],
          "name": "stdout"
        },
        {
          "output_type": "stream",
          "text": [
            "Sentence 1348:  36%|███▌      | 1347/3753 [09:31<17:01,  2.35it/s]"
          ],
          "name": "stderr"
        },
        {
          "output_type": "stream",
          "text": [
            "?\n"
          ],
          "name": "stdout"
        },
        {
          "output_type": "stream",
          "text": [
            "Sentence 1374:  37%|███▋      | 1373/3753 [09:42<13:42,  2.89it/s]"
          ],
          "name": "stderr"
        },
        {
          "output_type": "stream",
          "text": [
            "?\n"
          ],
          "name": "stdout"
        },
        {
          "output_type": "stream",
          "text": [
            "Sentence 1389:  37%|███▋      | 1388/3753 [09:46<09:40,  4.07it/s]"
          ],
          "name": "stderr"
        },
        {
          "output_type": "stream",
          "text": [
            "?\n"
          ],
          "name": "stdout"
        },
        {
          "output_type": "stream",
          "text": [
            "Sentence 1394:  37%|███▋      | 1393/3753 [09:49<18:48,  2.09it/s]"
          ],
          "name": "stderr"
        },
        {
          "output_type": "stream",
          "text": [
            "?\n"
          ],
          "name": "stdout"
        },
        {
          "output_type": "stream",
          "text": [
            "Sentence 1397:  37%|███▋      | 1396/3753 [09:50<13:49,  2.84it/s]"
          ],
          "name": "stderr"
        },
        {
          "output_type": "stream",
          "text": [
            "?\n"
          ],
          "name": "stdout"
        },
        {
          "output_type": "stream",
          "text": [
            "Sentence 1411:  38%|███▊      | 1410/3753 [09:57<24:08,  1.62it/s]"
          ],
          "name": "stderr"
        },
        {
          "output_type": "stream",
          "text": [
            "?\n"
          ],
          "name": "stdout"
        },
        {
          "output_type": "stream",
          "text": [
            "Sentence 1412:  38%|███▊      | 1411/3753 [09:57<22:23,  1.74it/s]"
          ],
          "name": "stderr"
        },
        {
          "output_type": "stream",
          "text": [
            "?\n"
          ],
          "name": "stdout"
        },
        {
          "output_type": "stream",
          "text": [
            "Sentence 1417:  38%|███▊      | 1416/3753 [09:59<16:04,  2.42it/s]"
          ],
          "name": "stderr"
        },
        {
          "output_type": "stream",
          "text": [
            "?\n"
          ],
          "name": "stdout"
        },
        {
          "output_type": "stream",
          "text": [
            "Sentence 1419:  38%|███▊      | 1418/3753 [10:00<15:48,  2.46it/s]"
          ],
          "name": "stderr"
        },
        {
          "output_type": "stream",
          "text": [
            "?\n"
          ],
          "name": "stdout"
        },
        {
          "output_type": "stream",
          "text": [
            "Sentence 1428:  38%|███▊      | 1427/3753 [10:03<11:11,  3.47it/s]"
          ],
          "name": "stderr"
        },
        {
          "output_type": "stream",
          "text": [
            "?\n"
          ],
          "name": "stdout"
        },
        {
          "output_type": "stream",
          "text": [
            "Sentence 1449:  39%|███▊      | 1448/3753 [10:11<12:47,  3.00it/s]"
          ],
          "name": "stderr"
        },
        {
          "output_type": "stream",
          "text": [
            "?\n"
          ],
          "name": "stdout"
        },
        {
          "output_type": "stream",
          "text": [
            "Sentence 1450:  39%|███▊      | 1449/3753 [10:12<22:10,  1.73it/s]"
          ],
          "name": "stderr"
        },
        {
          "output_type": "stream",
          "text": [
            "?\n"
          ],
          "name": "stdout"
        },
        {
          "output_type": "stream",
          "text": [
            "Sentence 1466:  39%|███▉      | 1465/3753 [10:18<15:04,  2.53it/s]"
          ],
          "name": "stderr"
        },
        {
          "output_type": "stream",
          "text": [
            "?\n"
          ],
          "name": "stdout"
        },
        {
          "output_type": "stream",
          "text": [
            "Sentence 1484:  40%|███▉      | 1483/3753 [10:29<22:54,  1.65it/s]"
          ],
          "name": "stderr"
        },
        {
          "output_type": "stream",
          "text": [
            "?\n"
          ],
          "name": "stdout"
        },
        {
          "output_type": "stream",
          "text": [
            "Sentence 1495:  40%|███▉      | 1494/3753 [10:34<13:10,  2.86it/s]"
          ],
          "name": "stderr"
        },
        {
          "output_type": "stream",
          "text": [
            "?\n"
          ],
          "name": "stdout"
        },
        {
          "output_type": "stream",
          "text": [
            "Sentence 1502:  40%|███▉      | 1501/3753 [10:39<17:03,  2.20it/s]"
          ],
          "name": "stderr"
        },
        {
          "output_type": "stream",
          "text": [
            "Loss: 0.36831286549568176\n"
          ],
          "name": "stdout"
        },
        {
          "output_type": "stream",
          "text": [
            "Sentence 1516:  40%|████      | 1515/3753 [10:45<18:24,  2.03it/s]"
          ],
          "name": "stderr"
        },
        {
          "output_type": "stream",
          "text": [
            "?\n"
          ],
          "name": "stdout"
        },
        {
          "output_type": "stream",
          "text": [
            "Sentence 1518:  40%|████      | 1517/3753 [10:46<19:56,  1.87it/s]"
          ],
          "name": "stderr"
        },
        {
          "output_type": "stream",
          "text": [
            "?\n"
          ],
          "name": "stdout"
        },
        {
          "output_type": "stream",
          "text": [
            "Sentence 1521:  41%|████      | 1520/3753 [10:48<22:03,  1.69it/s]"
          ],
          "name": "stderr"
        },
        {
          "output_type": "stream",
          "text": [
            "?\n"
          ],
          "name": "stdout"
        },
        {
          "output_type": "stream",
          "text": [
            "Sentence 1523:  41%|████      | 1522/3753 [10:49<18:10,  2.05it/s]"
          ],
          "name": "stderr"
        },
        {
          "output_type": "stream",
          "text": [
            "?\n"
          ],
          "name": "stdout"
        },
        {
          "output_type": "stream",
          "text": [
            "Sentence 1551:  41%|████▏     | 1550/3753 [10:58<13:08,  2.79it/s]"
          ],
          "name": "stderr"
        },
        {
          "output_type": "stream",
          "text": [
            "?\n"
          ],
          "name": "stdout"
        },
        {
          "output_type": "stream",
          "text": [
            "Sentence 1554:  41%|████▏     | 1553/3753 [10:59<11:29,  3.19it/s]"
          ],
          "name": "stderr"
        },
        {
          "output_type": "stream",
          "text": [
            "?\n"
          ],
          "name": "stdout"
        },
        {
          "output_type": "stream",
          "text": [
            "Sentence 1564:  42%|████▏     | 1563/3753 [11:03<13:31,  2.70it/s]"
          ],
          "name": "stderr"
        },
        {
          "output_type": "stream",
          "text": [
            "?\n"
          ],
          "name": "stdout"
        },
        {
          "output_type": "stream",
          "text": [
            "Sentence 1575:  42%|████▏     | 1574/3753 [11:09<18:20,  1.98it/s]"
          ],
          "name": "stderr"
        },
        {
          "output_type": "stream",
          "text": [
            "?\n"
          ],
          "name": "stdout"
        },
        {
          "output_type": "stream",
          "text": [
            "Sentence 1577:  42%|████▏     | 1576/3753 [11:09<16:46,  2.16it/s]"
          ],
          "name": "stderr"
        },
        {
          "output_type": "stream",
          "text": [
            "?\n"
          ],
          "name": "stdout"
        },
        {
          "output_type": "stream",
          "text": [
            "Sentence 1592:  42%|████▏     | 1591/3753 [11:18<16:28,  2.19it/s]"
          ],
          "name": "stderr"
        },
        {
          "output_type": "stream",
          "text": [
            "?\n"
          ],
          "name": "stdout"
        },
        {
          "output_type": "stream",
          "text": [
            "Sentence 1597:  43%|████▎     | 1596/3753 [11:20<14:22,  2.50it/s]"
          ],
          "name": "stderr"
        },
        {
          "output_type": "stream",
          "text": [
            "?\n"
          ],
          "name": "stdout"
        },
        {
          "output_type": "stream",
          "text": [
            "Sentence 1603:  43%|████▎     | 1602/3753 [11:22<11:35,  3.09it/s]"
          ],
          "name": "stderr"
        },
        {
          "output_type": "stream",
          "text": [
            "?\n"
          ],
          "name": "stdout"
        },
        {
          "output_type": "stream",
          "text": [
            "Sentence 1632:  43%|████▎     | 1631/3753 [11:31<13:47,  2.56it/s]"
          ],
          "name": "stderr"
        },
        {
          "output_type": "stream",
          "text": [
            "?\n"
          ],
          "name": "stdout"
        },
        {
          "output_type": "stream",
          "text": [
            "Sentence 1642:  44%|████▎     | 1641/3753 [11:35<11:59,  2.93it/s]"
          ],
          "name": "stderr"
        },
        {
          "output_type": "stream",
          "text": [
            "?\n"
          ],
          "name": "stdout"
        },
        {
          "output_type": "stream",
          "text": [
            "Sentence 1670:  44%|████▍     | 1669/3753 [11:43<08:21,  4.15it/s]"
          ],
          "name": "stderr"
        },
        {
          "output_type": "stream",
          "text": [
            "?\n"
          ],
          "name": "stdout"
        },
        {
          "output_type": "stream",
          "text": [
            "Sentence 1689:  45%|████▍     | 1688/3753 [11:48<07:21,  4.68it/s]"
          ],
          "name": "stderr"
        },
        {
          "output_type": "stream",
          "text": [
            "?\n"
          ],
          "name": "stdout"
        },
        {
          "output_type": "stream",
          "text": [
            "Sentence 1699:  45%|████▌     | 1698/3753 [11:50<07:20,  4.67it/s]"
          ],
          "name": "stderr"
        },
        {
          "output_type": "stream",
          "text": [
            "?\n"
          ],
          "name": "stdout"
        },
        {
          "output_type": "stream",
          "text": [
            "Sentence 1732:  46%|████▌     | 1731/3753 [12:01<11:54,  2.83it/s]"
          ],
          "name": "stderr"
        },
        {
          "output_type": "stream",
          "text": [
            "?\n"
          ],
          "name": "stdout"
        },
        {
          "output_type": "stream",
          "text": [
            "Sentence 1752:  47%|████▋     | 1751/3753 [12:09<16:48,  1.99it/s]"
          ],
          "name": "stderr"
        },
        {
          "output_type": "stream",
          "text": [
            "Loss: 0.40944522619247437\n"
          ],
          "name": "stdout"
        },
        {
          "output_type": "stream",
          "text": [
            "Sentence 1757:  47%|████▋     | 1756/3753 [12:11<13:41,  2.43it/s]"
          ],
          "name": "stderr"
        },
        {
          "output_type": "stream",
          "text": [
            "?\n"
          ],
          "name": "stdout"
        },
        {
          "output_type": "stream",
          "text": [
            "Sentence 1770:  47%|████▋     | 1769/3753 [12:17<11:44,  2.81it/s]"
          ],
          "name": "stderr"
        },
        {
          "output_type": "stream",
          "text": [
            "?\n"
          ],
          "name": "stdout"
        },
        {
          "output_type": "stream",
          "text": [
            "Sentence 1791:  48%|████▊     | 1790/3753 [12:26<17:39,  1.85it/s]"
          ],
          "name": "stderr"
        },
        {
          "output_type": "stream",
          "text": [
            "?\n"
          ],
          "name": "stdout"
        },
        {
          "output_type": "stream",
          "text": [
            "Sentence 1797:  48%|████▊     | 1796/3753 [12:29<16:03,  2.03it/s]"
          ],
          "name": "stderr"
        },
        {
          "output_type": "stream",
          "text": [
            "?\n"
          ],
          "name": "stdout"
        },
        {
          "output_type": "stream",
          "text": [
            "Sentence 1799:  48%|████▊     | 1798/3753 [12:30<14:42,  2.21it/s]"
          ],
          "name": "stderr"
        },
        {
          "output_type": "stream",
          "text": [
            "?\n"
          ],
          "name": "stdout"
        },
        {
          "output_type": "stream",
          "text": [
            "Sentence 1812:  48%|████▊     | 1811/3753 [12:37<12:59,  2.49it/s]"
          ],
          "name": "stderr"
        },
        {
          "output_type": "stream",
          "text": [
            "?\n"
          ],
          "name": "stdout"
        },
        {
          "output_type": "stream",
          "text": [
            "Sentence 1817:  48%|████▊     | 1816/3753 [12:38<10:36,  3.04it/s]"
          ],
          "name": "stderr"
        },
        {
          "output_type": "stream",
          "text": [
            "?\n"
          ],
          "name": "stdout"
        },
        {
          "output_type": "stream",
          "text": [
            "Sentence 1818:  48%|████▊     | 1817/3753 [12:38<11:09,  2.89it/s]"
          ],
          "name": "stderr"
        },
        {
          "output_type": "stream",
          "text": [
            "?\n"
          ],
          "name": "stdout"
        },
        {
          "output_type": "stream",
          "text": [
            "Sentence 1820:  48%|████▊     | 1819/3753 [12:39<10:50,  2.97it/s]"
          ],
          "name": "stderr"
        },
        {
          "output_type": "stream",
          "text": [
            "?\n"
          ],
          "name": "stdout"
        },
        {
          "output_type": "stream",
          "text": [
            "Sentence 1842:  49%|████▉     | 1841/3753 [12:46<14:12,  2.24it/s]"
          ],
          "name": "stderr"
        },
        {
          "output_type": "stream",
          "text": [
            "?\n"
          ],
          "name": "stdout"
        },
        {
          "output_type": "stream",
          "text": [
            "Sentence 1867:  50%|████▉     | 1866/3753 [12:55<13:27,  2.34it/s]"
          ],
          "name": "stderr"
        },
        {
          "output_type": "stream",
          "text": [
            "?\n"
          ],
          "name": "stdout"
        },
        {
          "output_type": "stream",
          "text": [
            "Sentence 1879:  50%|█████     | 1878/3753 [12:59<09:37,  3.25it/s]"
          ],
          "name": "stderr"
        },
        {
          "output_type": "stream",
          "text": [
            "?\n"
          ],
          "name": "stdout"
        },
        {
          "output_type": "stream",
          "text": [
            "Sentence 1884:  50%|█████     | 1883/3753 [13:00<09:32,  3.27it/s]"
          ],
          "name": "stderr"
        },
        {
          "output_type": "stream",
          "text": [
            "?\n"
          ],
          "name": "stdout"
        },
        {
          "output_type": "stream",
          "text": [
            "Sentence 1892:  50%|█████     | 1891/3753 [13:04<10:40,  2.91it/s]"
          ],
          "name": "stderr"
        },
        {
          "output_type": "stream",
          "text": [
            "?\n"
          ],
          "name": "stdout"
        },
        {
          "output_type": "stream",
          "text": [
            "Sentence 1930:  51%|█████▏    | 1929/3753 [13:17<09:51,  3.09it/s]"
          ],
          "name": "stderr"
        },
        {
          "output_type": "stream",
          "text": [
            "?\n"
          ],
          "name": "stdout"
        },
        {
          "output_type": "stream",
          "text": [
            "Sentence 1934:  52%|█████▏    | 1933/3753 [13:20<15:39,  1.94it/s]"
          ],
          "name": "stderr"
        },
        {
          "output_type": "stream",
          "text": [
            "?\n"
          ],
          "name": "stdout"
        },
        {
          "output_type": "stream",
          "text": [
            "Sentence 1941:  52%|█████▏    | 1940/3753 [13:23<10:58,  2.75it/s]"
          ],
          "name": "stderr"
        },
        {
          "output_type": "stream",
          "text": [
            "?\n"
          ],
          "name": "stdout"
        },
        {
          "output_type": "stream",
          "text": [
            "Sentence 1963:  52%|█████▏    | 1962/3753 [13:31<11:09,  2.67it/s]"
          ],
          "name": "stderr"
        },
        {
          "output_type": "stream",
          "text": [
            "?\n"
          ],
          "name": "stdout"
        },
        {
          "output_type": "stream",
          "text": [
            "Sentence 1977:  53%|█████▎    | 1976/3753 [13:37<11:06,  2.67it/s]"
          ],
          "name": "stderr"
        },
        {
          "output_type": "stream",
          "text": [
            "?\n"
          ],
          "name": "stdout"
        },
        {
          "output_type": "stream",
          "text": [
            "Sentence 1995:  53%|█████▎    | 1994/3753 [13:43<07:15,  4.04it/s]"
          ],
          "name": "stderr"
        },
        {
          "output_type": "stream",
          "text": [
            "?\n"
          ],
          "name": "stdout"
        },
        {
          "output_type": "stream",
          "text": [
            "Sentence 2002:  53%|█████▎    | 2001/3753 [13:45<09:00,  3.24it/s]"
          ],
          "name": "stderr"
        },
        {
          "output_type": "stream",
          "text": [
            "Loss: 0.16384409368038177\n"
          ],
          "name": "stdout"
        },
        {
          "output_type": "stream",
          "text": [
            "Sentence 2025:  54%|█████▍    | 2024/3753 [13:53<13:36,  2.12it/s]"
          ],
          "name": "stderr"
        },
        {
          "output_type": "stream",
          "text": [
            "?\n"
          ],
          "name": "stdout"
        },
        {
          "output_type": "stream",
          "text": [
            "Sentence 2027:  54%|█████▍    | 2026/3753 [13:55<18:21,  1.57it/s]"
          ],
          "name": "stderr"
        },
        {
          "output_type": "stream",
          "text": [
            "?\n"
          ],
          "name": "stdout"
        },
        {
          "output_type": "stream",
          "text": [
            "Sentence 2034:  54%|█████▍    | 2033/3753 [13:57<09:15,  3.10it/s]"
          ],
          "name": "stderr"
        },
        {
          "output_type": "stream",
          "text": [
            "?\n"
          ],
          "name": "stdout"
        },
        {
          "output_type": "stream",
          "text": [
            "Sentence 2052:  55%|█████▍    | 2051/3753 [14:04<10:30,  2.70it/s]"
          ],
          "name": "stderr"
        },
        {
          "output_type": "stream",
          "text": [
            "?\n"
          ],
          "name": "stdout"
        },
        {
          "output_type": "stream",
          "text": [
            "Sentence 2069:  55%|█████▌    | 2068/3753 [14:12<09:02,  3.10it/s]"
          ],
          "name": "stderr"
        },
        {
          "output_type": "stream",
          "text": [
            "?\n"
          ],
          "name": "stdout"
        },
        {
          "output_type": "stream",
          "text": [
            "Sentence 2088:  56%|█████▌    | 2087/3753 [14:18<08:54,  3.12it/s]"
          ],
          "name": "stderr"
        },
        {
          "output_type": "stream",
          "text": [
            "?\n"
          ],
          "name": "stdout"
        },
        {
          "output_type": "stream",
          "text": [
            "Sentence 2113:  56%|█████▋    | 2112/3753 [14:29<09:29,  2.88it/s]"
          ],
          "name": "stderr"
        },
        {
          "output_type": "stream",
          "text": [
            "?\n"
          ],
          "name": "stdout"
        },
        {
          "output_type": "stream",
          "text": [
            "Sentence 2115:  56%|█████▋    | 2114/3753 [14:30<13:40,  2.00it/s]"
          ],
          "name": "stderr"
        },
        {
          "output_type": "stream",
          "text": [
            "?\n"
          ],
          "name": "stdout"
        },
        {
          "output_type": "stream",
          "text": [
            "Sentence 2126:  57%|█████▋    | 2125/3753 [14:35<14:25,  1.88it/s]"
          ],
          "name": "stderr"
        },
        {
          "output_type": "stream",
          "text": [
            "?\n"
          ],
          "name": "stdout"
        },
        {
          "output_type": "stream",
          "text": [
            "Sentence 2137:  57%|█████▋    | 2136/3753 [14:41<12:54,  2.09it/s]"
          ],
          "name": "stderr"
        },
        {
          "output_type": "stream",
          "text": [
            "?\n"
          ],
          "name": "stdout"
        },
        {
          "output_type": "stream",
          "text": [
            "Sentence 2138:  57%|█████▋    | 2137/3753 [14:42<13:19,  2.02it/s]"
          ],
          "name": "stderr"
        },
        {
          "output_type": "stream",
          "text": [
            "?\n"
          ],
          "name": "stdout"
        },
        {
          "output_type": "stream",
          "text": [
            "Sentence 2152:  57%|█████▋    | 2151/3753 [14:47<11:34,  2.31it/s]"
          ],
          "name": "stderr"
        },
        {
          "output_type": "stream",
          "text": [
            "?\n"
          ],
          "name": "stdout"
        },
        {
          "output_type": "stream",
          "text": [
            "Sentence 2179:  58%|█████▊    | 2178/3753 [14:58<12:15,  2.14it/s]"
          ],
          "name": "stderr"
        },
        {
          "output_type": "stream",
          "text": [
            "?\n"
          ],
          "name": "stdout"
        },
        {
          "output_type": "stream",
          "text": [
            "Sentence 2196:  58%|█████▊    | 2195/3753 [15:07<09:50,  2.64it/s]"
          ],
          "name": "stderr"
        },
        {
          "output_type": "stream",
          "text": [
            "?\n"
          ],
          "name": "stdout"
        },
        {
          "output_type": "stream",
          "text": [
            "Sentence 2210:  59%|█████▉    | 2209/3753 [15:13<07:40,  3.36it/s]"
          ],
          "name": "stderr"
        },
        {
          "output_type": "stream",
          "text": [
            "?\n"
          ],
          "name": "stdout"
        },
        {
          "output_type": "stream",
          "text": [
            "Sentence 2231:  59%|█████▉    | 2230/3753 [15:23<17:36,  1.44it/s]"
          ],
          "name": "stderr"
        },
        {
          "output_type": "stream",
          "text": [
            "?\n"
          ],
          "name": "stdout"
        },
        {
          "output_type": "stream",
          "text": [
            "Sentence 2237:  60%|█████▉    | 2236/3753 [15:25<10:00,  2.53it/s]"
          ],
          "name": "stderr"
        },
        {
          "output_type": "stream",
          "text": [
            "?\n"
          ],
          "name": "stdout"
        },
        {
          "output_type": "stream",
          "text": [
            "Sentence 2238:  60%|█████▉    | 2237/3753 [15:25<09:36,  2.63it/s]"
          ],
          "name": "stderr"
        },
        {
          "output_type": "stream",
          "text": [
            "?\n"
          ],
          "name": "stdout"
        },
        {
          "output_type": "stream",
          "text": [
            "Sentence 2249:  60%|█████▉    | 2248/3753 [15:31<13:46,  1.82it/s]"
          ],
          "name": "stderr"
        },
        {
          "output_type": "stream",
          "text": [
            "?\n"
          ],
          "name": "stdout"
        },
        {
          "output_type": "stream",
          "text": [
            "Sentence 2253:  60%|██████    | 2252/3753 [15:33<08:33,  2.93it/s]"
          ],
          "name": "stderr"
        },
        {
          "output_type": "stream",
          "text": [
            "Loss: 0.67448890209198\n"
          ],
          "name": "stdout"
        },
        {
          "output_type": "stream",
          "text": [
            "Sentence 2286:  61%|██████    | 2285/3753 [15:51<10:00,  2.45it/s]"
          ],
          "name": "stderr"
        },
        {
          "output_type": "stream",
          "text": [
            "?\n"
          ],
          "name": "stdout"
        },
        {
          "output_type": "stream",
          "text": [
            "Sentence 2287:  61%|██████    | 2286/3753 [15:51<11:02,  2.21it/s]"
          ],
          "name": "stderr"
        },
        {
          "output_type": "stream",
          "text": [
            "?\n"
          ],
          "name": "stdout"
        },
        {
          "output_type": "stream",
          "text": [
            "Sentence 2291:  61%|██████    | 2290/3753 [15:53<09:45,  2.50it/s]"
          ],
          "name": "stderr"
        },
        {
          "output_type": "stream",
          "text": [
            "?\n"
          ],
          "name": "stdout"
        },
        {
          "output_type": "stream",
          "text": [
            "Sentence 2295:  61%|██████    | 2294/3753 [15:56<13:05,  1.86it/s]"
          ],
          "name": "stderr"
        },
        {
          "output_type": "stream",
          "text": [
            "?\n"
          ],
          "name": "stdout"
        },
        {
          "output_type": "stream",
          "text": [
            "Sentence 2296:  61%|██████    | 2295/3753 [15:56<13:44,  1.77it/s]"
          ],
          "name": "stderr"
        },
        {
          "output_type": "stream",
          "text": [
            "?\n"
          ],
          "name": "stdout"
        },
        {
          "output_type": "stream",
          "text": [
            "Sentence 2297:  61%|██████    | 2296/3753 [15:57<11:42,  2.07it/s]"
          ],
          "name": "stderr"
        },
        {
          "output_type": "stream",
          "text": [
            "?\n"
          ],
          "name": "stdout"
        },
        {
          "output_type": "stream",
          "text": [
            "Sentence 2318:  62%|██████▏   | 2317/3753 [16:06<09:00,  2.66it/s]"
          ],
          "name": "stderr"
        },
        {
          "output_type": "stream",
          "text": [
            "?\n"
          ],
          "name": "stdout"
        },
        {
          "output_type": "stream",
          "text": [
            "Sentence 2371:  63%|██████▎   | 2370/3753 [16:31<10:06,  2.28it/s]"
          ],
          "name": "stderr"
        },
        {
          "output_type": "stream",
          "text": [
            "?\n"
          ],
          "name": "stdout"
        },
        {
          "output_type": "stream",
          "text": [
            "Sentence 2380:  63%|██████▎   | 2379/3753 [16:36<12:00,  1.91it/s]"
          ],
          "name": "stderr"
        },
        {
          "output_type": "stream",
          "text": [
            "?\n"
          ],
          "name": "stdout"
        },
        {
          "output_type": "stream",
          "text": [
            "Sentence 2383:  63%|██████▎   | 2382/3753 [16:38<13:44,  1.66it/s]"
          ],
          "name": "stderr"
        },
        {
          "output_type": "stream",
          "text": [
            "?\n"
          ],
          "name": "stdout"
        },
        {
          "output_type": "stream",
          "text": [
            "Sentence 2388:  64%|██████▎   | 2387/3753 [16:41<13:02,  1.75it/s]"
          ],
          "name": "stderr"
        },
        {
          "output_type": "stream",
          "text": [
            "?\n"
          ],
          "name": "stdout"
        },
        {
          "output_type": "stream",
          "text": [
            "Sentence 2389:  64%|██████▎   | 2388/3753 [16:41<12:33,  1.81it/s]"
          ],
          "name": "stderr"
        },
        {
          "output_type": "stream",
          "text": [
            "?\n"
          ],
          "name": "stdout"
        },
        {
          "output_type": "stream",
          "text": [
            "Sentence 2418:  64%|██████▍   | 2417/3753 [16:54<09:48,  2.27it/s]"
          ],
          "name": "stderr"
        },
        {
          "output_type": "stream",
          "text": [
            "?\n"
          ],
          "name": "stdout"
        },
        {
          "output_type": "stream",
          "text": [
            "Sentence 2420:  64%|██████▍   | 2419/3753 [16:55<10:06,  2.20it/s]"
          ],
          "name": "stderr"
        },
        {
          "output_type": "stream",
          "text": [
            "?\n"
          ],
          "name": "stdout"
        },
        {
          "output_type": "stream",
          "text": [
            "Sentence 2423:  65%|██████▍   | 2422/3753 [16:57<09:51,  2.25it/s]"
          ],
          "name": "stderr"
        },
        {
          "output_type": "stream",
          "text": [
            "?\n"
          ],
          "name": "stdout"
        },
        {
          "output_type": "stream",
          "text": [
            "Sentence 2442:  65%|██████▌   | 2441/3753 [17:06<11:55,  1.83it/s]"
          ],
          "name": "stderr"
        },
        {
          "output_type": "stream",
          "text": [
            "?\n"
          ],
          "name": "stdout"
        },
        {
          "output_type": "stream",
          "text": [
            "Sentence 2445:  65%|██████▌   | 2444/3753 [17:08<13:36,  1.60it/s]"
          ],
          "name": "stderr"
        },
        {
          "output_type": "stream",
          "text": [
            "?\n"
          ],
          "name": "stdout"
        },
        {
          "output_type": "stream",
          "text": [
            "Sentence 2449:  65%|██████▌   | 2448/3753 [17:10<11:00,  1.98it/s]"
          ],
          "name": "stderr"
        },
        {
          "output_type": "stream",
          "text": [
            "?\n"
          ],
          "name": "stdout"
        },
        {
          "output_type": "stream",
          "text": [
            "Sentence 2450:  65%|██████▌   | 2449/3753 [17:11<10:28,  2.07it/s]"
          ],
          "name": "stderr"
        },
        {
          "output_type": "stream",
          "text": [
            "?\n"
          ],
          "name": "stdout"
        },
        {
          "output_type": "stream",
          "text": [
            "Sentence 2453:  65%|██████▌   | 2452/3753 [17:12<10:08,  2.14it/s]"
          ],
          "name": "stderr"
        },
        {
          "output_type": "stream",
          "text": [
            "?\n"
          ],
          "name": "stdout"
        },
        {
          "output_type": "stream",
          "text": [
            "Sentence 2467:  66%|██████▌   | 2466/3753 [17:19<07:35,  2.82it/s]"
          ],
          "name": "stderr"
        },
        {
          "output_type": "stream",
          "text": [
            "?\n"
          ],
          "name": "stdout"
        },
        {
          "output_type": "stream",
          "text": [
            "Sentence 2497:  67%|██████▋   | 2496/3753 [17:32<09:24,  2.23it/s]"
          ],
          "name": "stderr"
        },
        {
          "output_type": "stream",
          "text": [
            "?\n"
          ],
          "name": "stdout"
        },
        {
          "output_type": "stream",
          "text": [
            "Sentence 2501:  67%|██████▋   | 2500/3753 [17:34<12:00,  1.74it/s]"
          ],
          "name": "stderr"
        },
        {
          "output_type": "stream",
          "text": [
            "?\n"
          ],
          "name": "stdout"
        },
        {
          "output_type": "stream",
          "text": [
            "Sentence 2502:  67%|██████▋   | 2501/3753 [17:35<12:35,  1.66it/s]"
          ],
          "name": "stderr"
        },
        {
          "output_type": "stream",
          "text": [
            "Loss: 0.3459390103816986\n",
            "?\n"
          ],
          "name": "stdout"
        },
        {
          "output_type": "stream",
          "text": [
            "Sentence 2510:  67%|██████▋   | 2509/3753 [17:39<07:24,  2.80it/s]"
          ],
          "name": "stderr"
        },
        {
          "output_type": "stream",
          "text": [
            "?\n"
          ],
          "name": "stdout"
        },
        {
          "output_type": "stream",
          "text": [
            "Sentence 2513:  67%|██████▋   | 2512/3753 [17:40<09:42,  2.13it/s]"
          ],
          "name": "stderr"
        },
        {
          "output_type": "stream",
          "text": [
            "?\n"
          ],
          "name": "stdout"
        },
        {
          "output_type": "stream",
          "text": [
            "Sentence 2525:  67%|██████▋   | 2524/3753 [17:45<08:07,  2.52it/s]"
          ],
          "name": "stderr"
        },
        {
          "output_type": "stream",
          "text": [
            "?\n"
          ],
          "name": "stdout"
        },
        {
          "output_type": "stream",
          "text": [
            "Sentence 2527:  67%|██████▋   | 2526/3753 [17:46<08:17,  2.46it/s]"
          ],
          "name": "stderr"
        },
        {
          "output_type": "stream",
          "text": [
            "?\n"
          ],
          "name": "stdout"
        },
        {
          "output_type": "stream",
          "text": [
            "Sentence 2534:  67%|██████▋   | 2533/3753 [17:49<08:27,  2.40it/s]"
          ],
          "name": "stderr"
        },
        {
          "output_type": "stream",
          "text": [
            "?\n"
          ],
          "name": "stdout"
        },
        {
          "output_type": "stream",
          "text": [
            "Sentence 2539:  68%|██████▊   | 2538/3753 [17:51<06:23,  3.17it/s]"
          ],
          "name": "stderr"
        },
        {
          "output_type": "stream",
          "text": [
            "?\n"
          ],
          "name": "stdout"
        },
        {
          "output_type": "stream",
          "text": [
            "Sentence 2540:  68%|██████▊   | 2539/3753 [17:51<07:25,  2.72it/s]"
          ],
          "name": "stderr"
        },
        {
          "output_type": "stream",
          "text": [
            "?\n"
          ],
          "name": "stdout"
        },
        {
          "output_type": "stream",
          "text": [
            "Sentence 2541:  68%|██████▊   | 2540/3753 [17:52<08:28,  2.38it/s]"
          ],
          "name": "stderr"
        },
        {
          "output_type": "stream",
          "text": [
            "?\n"
          ],
          "name": "stdout"
        },
        {
          "output_type": "stream",
          "text": [
            "Sentence 2544:  68%|██████▊   | 2543/3753 [17:53<09:55,  2.03it/s]"
          ],
          "name": "stderr"
        },
        {
          "output_type": "stream",
          "text": [
            "?\n"
          ],
          "name": "stdout"
        },
        {
          "output_type": "stream",
          "text": [
            "Sentence 2545:  68%|██████▊   | 2544/3753 [17:54<09:11,  2.19it/s]"
          ],
          "name": "stderr"
        },
        {
          "output_type": "stream",
          "text": [
            "?\n"
          ],
          "name": "stdout"
        },
        {
          "output_type": "stream",
          "text": [
            "Sentence 2556:  68%|██████▊   | 2555/3753 [17:59<07:23,  2.70it/s]"
          ],
          "name": "stderr"
        },
        {
          "output_type": "stream",
          "text": [
            "?\n"
          ],
          "name": "stdout"
        },
        {
          "output_type": "stream",
          "text": [
            "Sentence 2569:  68%|██████▊   | 2568/3753 [18:02<05:26,  3.62it/s]"
          ],
          "name": "stderr"
        },
        {
          "output_type": "stream",
          "text": [
            "?\n"
          ],
          "name": "stdout"
        },
        {
          "output_type": "stream",
          "text": [
            "Sentence 2573:  69%|██████▊   | 2572/3753 [18:04<07:31,  2.62it/s]"
          ],
          "name": "stderr"
        },
        {
          "output_type": "stream",
          "text": [
            "?\n"
          ],
          "name": "stdout"
        },
        {
          "output_type": "stream",
          "text": [
            "Sentence 2574:  69%|██████▊   | 2573/3753 [18:05<09:22,  2.10it/s]"
          ],
          "name": "stderr"
        },
        {
          "output_type": "stream",
          "text": [
            "?\n"
          ],
          "name": "stdout"
        },
        {
          "output_type": "stream",
          "text": [
            "Sentence 2580:  69%|██████▊   | 2579/3753 [18:08<08:23,  2.33it/s]"
          ],
          "name": "stderr"
        },
        {
          "output_type": "stream",
          "text": [
            "?\n"
          ],
          "name": "stdout"
        },
        {
          "output_type": "stream",
          "text": [
            "Sentence 2587:  69%|██████▉   | 2586/3753 [18:10<08:42,  2.23it/s]"
          ],
          "name": "stderr"
        },
        {
          "output_type": "stream",
          "text": [
            "?\n"
          ],
          "name": "stdout"
        },
        {
          "output_type": "stream",
          "text": [
            "Sentence 2596:  69%|██████▉   | 2595/3753 [18:14<08:23,  2.30it/s]"
          ],
          "name": "stderr"
        },
        {
          "output_type": "stream",
          "text": [
            "?\n"
          ],
          "name": "stdout"
        },
        {
          "output_type": "stream",
          "text": [
            "Sentence 2599:  69%|██████▉   | 2598/3753 [18:16<10:33,  1.82it/s]"
          ],
          "name": "stderr"
        },
        {
          "output_type": "stream",
          "text": [
            "?\n"
          ],
          "name": "stdout"
        },
        {
          "output_type": "stream",
          "text": [
            "Sentence 2623:  70%|██████▉   | 2622/3753 [18:30<07:17,  2.58it/s]"
          ],
          "name": "stderr"
        },
        {
          "output_type": "stream",
          "text": [
            "?\n"
          ],
          "name": "stdout"
        },
        {
          "output_type": "stream",
          "text": [
            "Sentence 2647:  71%|███████   | 2646/3753 [18:42<05:56,  3.11it/s]"
          ],
          "name": "stderr"
        },
        {
          "output_type": "stream",
          "text": [
            "?\n"
          ],
          "name": "stdout"
        },
        {
          "output_type": "stream",
          "text": [
            "Sentence 2655:  71%|███████   | 2654/3753 [18:46<09:29,  1.93it/s]"
          ],
          "name": "stderr"
        },
        {
          "output_type": "stream",
          "text": [
            "?\n"
          ],
          "name": "stdout"
        },
        {
          "output_type": "stream",
          "text": [
            "Sentence 2661:  71%|███████   | 2660/3753 [18:48<05:02,  3.61it/s]"
          ],
          "name": "stderr"
        },
        {
          "output_type": "stream",
          "text": [
            "?\n"
          ],
          "name": "stdout"
        },
        {
          "output_type": "stream",
          "text": [
            "Sentence 2665:  71%|███████   | 2664/3753 [18:49<04:52,  3.73it/s]"
          ],
          "name": "stderr"
        },
        {
          "output_type": "stream",
          "text": [
            "?\n"
          ],
          "name": "stdout"
        },
        {
          "output_type": "stream",
          "text": [
            "Sentence 2667:  71%|███████   | 2666/3753 [18:50<05:01,  3.60it/s]"
          ],
          "name": "stderr"
        },
        {
          "output_type": "stream",
          "text": [
            "?\n"
          ],
          "name": "stdout"
        },
        {
          "output_type": "stream",
          "text": [
            "Sentence 2679:  71%|███████▏  | 2678/3753 [18:55<05:51,  3.06it/s]"
          ],
          "name": "stderr"
        },
        {
          "output_type": "stream",
          "text": [
            "?\n"
          ],
          "name": "stdout"
        },
        {
          "output_type": "stream",
          "text": [
            "Sentence 2680:  71%|███████▏  | 2679/3753 [18:56<09:20,  1.92it/s]"
          ],
          "name": "stderr"
        },
        {
          "output_type": "stream",
          "text": [
            "?\n"
          ],
          "name": "stdout"
        },
        {
          "output_type": "stream",
          "text": [
            "Sentence 2681:  71%|███████▏  | 2680/3753 [18:57<08:28,  2.11it/s]"
          ],
          "name": "stderr"
        },
        {
          "output_type": "stream",
          "text": [
            "?\n"
          ],
          "name": "stdout"
        },
        {
          "output_type": "stream",
          "text": [
            "Sentence 2684:  71%|███████▏  | 2683/3753 [18:58<07:50,  2.27it/s]"
          ],
          "name": "stderr"
        },
        {
          "output_type": "stream",
          "text": [
            "?\n"
          ],
          "name": "stdout"
        },
        {
          "output_type": "stream",
          "text": [
            "Sentence 2687:  72%|███████▏  | 2686/3753 [18:59<06:36,  2.69it/s]"
          ],
          "name": "stderr"
        },
        {
          "output_type": "stream",
          "text": [
            "?\n"
          ],
          "name": "stdout"
        },
        {
          "output_type": "stream",
          "text": [
            "Sentence 2697:  72%|███████▏  | 2696/3753 [19:03<06:55,  2.55it/s]"
          ],
          "name": "stderr"
        },
        {
          "output_type": "stream",
          "text": [
            "?\n"
          ],
          "name": "stdout"
        },
        {
          "output_type": "stream",
          "text": [
            "Sentence 2701:  72%|███████▏  | 2700/3753 [19:04<08:19,  2.11it/s]"
          ],
          "name": "stderr"
        },
        {
          "output_type": "stream",
          "text": [
            "?\n"
          ],
          "name": "stdout"
        },
        {
          "output_type": "stream",
          "text": [
            "Sentence 2706:  72%|███████▏  | 2705/3753 [19:07<07:23,  2.37it/s]"
          ],
          "name": "stderr"
        },
        {
          "output_type": "stream",
          "text": [
            "?\n"
          ],
          "name": "stdout"
        },
        {
          "output_type": "stream",
          "text": [
            "Sentence 2721:  72%|███████▏  | 2720/3753 [19:11<07:17,  2.36it/s]"
          ],
          "name": "stderr"
        },
        {
          "output_type": "stream",
          "text": [
            "?\n"
          ],
          "name": "stdout"
        },
        {
          "output_type": "stream",
          "text": [
            "Sentence 2723:  73%|███████▎  | 2722/3753 [19:12<08:54,  1.93it/s]"
          ],
          "name": "stderr"
        },
        {
          "output_type": "stream",
          "text": [
            "?\n"
          ],
          "name": "stdout"
        },
        {
          "output_type": "stream",
          "text": [
            "Sentence 2728:  73%|███████▎  | 2727/3753 [19:15<09:59,  1.71it/s]"
          ],
          "name": "stderr"
        },
        {
          "output_type": "stream",
          "text": [
            "?\n"
          ],
          "name": "stdout"
        },
        {
          "output_type": "stream",
          "text": [
            "Sentence 2749:  73%|███████▎  | 2748/3753 [19:25<09:50,  1.70it/s]"
          ],
          "name": "stderr"
        },
        {
          "output_type": "stream",
          "text": [
            "?\n"
          ],
          "name": "stdout"
        },
        {
          "output_type": "stream",
          "text": [
            "Sentence 2750:  73%|███████▎  | 2749/3753 [19:26<10:33,  1.59it/s]"
          ],
          "name": "stderr"
        },
        {
          "output_type": "stream",
          "text": [
            "?\n"
          ],
          "name": "stdout"
        },
        {
          "output_type": "stream",
          "text": [
            "Sentence 2753:  73%|███████▎  | 2752/3753 [19:27<08:07,  2.05it/s]"
          ],
          "name": "stderr"
        },
        {
          "output_type": "stream",
          "text": [
            "Loss: 0.23219415545463562\n"
          ],
          "name": "stdout"
        },
        {
          "output_type": "stream",
          "text": [
            "Sentence 2756:  73%|███████▎  | 2755/3753 [19:28<06:11,  2.69it/s]"
          ],
          "name": "stderr"
        },
        {
          "output_type": "stream",
          "text": [
            "?\n"
          ],
          "name": "stdout"
        },
        {
          "output_type": "stream",
          "text": [
            "Sentence 2759:  73%|███████▎  | 2758/3753 [19:30<09:31,  1.74it/s]"
          ],
          "name": "stderr"
        },
        {
          "output_type": "stream",
          "text": [
            "?\n"
          ],
          "name": "stdout"
        },
        {
          "output_type": "stream",
          "text": [
            "Sentence 2766:  74%|███████▎  | 2765/3753 [19:33<07:35,  2.17it/s]"
          ],
          "name": "stderr"
        },
        {
          "output_type": "stream",
          "text": [
            "?\n"
          ],
          "name": "stdout"
        },
        {
          "output_type": "stream",
          "text": [
            "Sentence 2776:  74%|███████▍  | 2775/3753 [19:37<04:06,  3.97it/s]"
          ],
          "name": "stderr"
        },
        {
          "output_type": "stream",
          "text": [
            "?\n"
          ],
          "name": "stdout"
        },
        {
          "output_type": "stream",
          "text": [
            "Sentence 2778:  74%|███████▍  | 2777/3753 [19:39<07:44,  2.10it/s]"
          ],
          "name": "stderr"
        },
        {
          "output_type": "stream",
          "text": [
            "?\n"
          ],
          "name": "stdout"
        },
        {
          "output_type": "stream",
          "text": [
            "Sentence 2798:  75%|███████▍  | 2797/3753 [19:46<07:45,  2.05it/s]"
          ],
          "name": "stderr"
        },
        {
          "output_type": "stream",
          "text": [
            "?\n"
          ],
          "name": "stdout"
        },
        {
          "output_type": "stream",
          "text": [
            "Sentence 2811:  75%|███████▍  | 2810/3753 [19:53<08:04,  1.94it/s]"
          ],
          "name": "stderr"
        },
        {
          "output_type": "stream",
          "text": [
            "?\n"
          ],
          "name": "stdout"
        },
        {
          "output_type": "stream",
          "text": [
            "Sentence 2814:  75%|███████▍  | 2813/3753 [19:54<07:49,  2.00it/s]"
          ],
          "name": "stderr"
        },
        {
          "output_type": "stream",
          "text": [
            "?\n"
          ],
          "name": "stdout"
        },
        {
          "output_type": "stream",
          "text": [
            "Sentence 2820:  75%|███████▌  | 2819/3753 [19:57<06:27,  2.41it/s]"
          ],
          "name": "stderr"
        },
        {
          "output_type": "stream",
          "text": [
            "?\n"
          ],
          "name": "stdout"
        },
        {
          "output_type": "stream",
          "text": [
            "Sentence 2861:  76%|███████▌  | 2860/3753 [20:12<05:09,  2.89it/s]"
          ],
          "name": "stderr"
        },
        {
          "output_type": "stream",
          "text": [
            "?\n"
          ],
          "name": "stdout"
        },
        {
          "output_type": "stream",
          "text": [
            "Sentence 2862:  76%|███████▌  | 2861/3753 [20:13<05:41,  2.61it/s]"
          ],
          "name": "stderr"
        },
        {
          "output_type": "stream",
          "text": [
            "?\n"
          ],
          "name": "stdout"
        },
        {
          "output_type": "stream",
          "text": [
            "Sentence 2894:  77%|███████▋  | 2893/3753 [20:27<03:24,  4.21it/s]"
          ],
          "name": "stderr"
        },
        {
          "output_type": "stream",
          "text": [
            "?\n"
          ],
          "name": "stdout"
        },
        {
          "output_type": "stream",
          "text": [
            "Sentence 2898:  77%|███████▋  | 2897/3753 [20:28<03:36,  3.95it/s]"
          ],
          "name": "stderr"
        },
        {
          "output_type": "stream",
          "text": [
            "?\n"
          ],
          "name": "stdout"
        },
        {
          "output_type": "stream",
          "text": [
            "Sentence 2900:  77%|███████▋  | 2899/3753 [20:28<03:05,  4.60it/s]"
          ],
          "name": "stderr"
        },
        {
          "output_type": "stream",
          "text": [
            "?\n"
          ],
          "name": "stdout"
        },
        {
          "output_type": "stream",
          "text": [
            "Sentence 2916:  78%|███████▊  | 2915/3753 [20:35<05:32,  2.52it/s]"
          ],
          "name": "stderr"
        },
        {
          "output_type": "stream",
          "text": [
            "?\n"
          ],
          "name": "stdout"
        },
        {
          "output_type": "stream",
          "text": [
            "Sentence 2927:  78%|███████▊  | 2926/3753 [20:39<05:28,  2.52it/s]"
          ],
          "name": "stderr"
        },
        {
          "output_type": "stream",
          "text": [
            "?\n"
          ],
          "name": "stdout"
        },
        {
          "output_type": "stream",
          "text": [
            "Sentence 2931:  78%|███████▊  | 2930/3753 [20:41<06:19,  2.17it/s]"
          ],
          "name": "stderr"
        },
        {
          "output_type": "stream",
          "text": [
            "?\n"
          ],
          "name": "stdout"
        },
        {
          "output_type": "stream",
          "text": [
            "Sentence 2950:  79%|███████▊  | 2949/3753 [20:47<04:42,  2.85it/s]"
          ],
          "name": "stderr"
        },
        {
          "output_type": "stream",
          "text": [
            "?\n"
          ],
          "name": "stdout"
        },
        {
          "output_type": "stream",
          "text": [
            "Sentence 2961:  79%|███████▉  | 2960/3753 [20:51<04:01,  3.28it/s]"
          ],
          "name": "stderr"
        },
        {
          "output_type": "stream",
          "text": [
            "?\n"
          ],
          "name": "stdout"
        },
        {
          "output_type": "stream",
          "text": [
            "Sentence 3002:  80%|███████▉  | 3001/3753 [21:07<03:45,  3.34it/s]"
          ],
          "name": "stderr"
        },
        {
          "output_type": "stream",
          "text": [
            "Loss: 5.888744999538176e-05\n"
          ],
          "name": "stdout"
        },
        {
          "output_type": "stream",
          "text": [
            "Sentence 3003:  80%|███████▉  | 3002/3753 [21:07<03:45,  3.33it/s]"
          ],
          "name": "stderr"
        },
        {
          "output_type": "stream",
          "text": [
            "?\n"
          ],
          "name": "stdout"
        },
        {
          "output_type": "stream",
          "text": [
            "Sentence 3017:  80%|████████  | 3016/3753 [21:14<04:20,  2.83it/s]"
          ],
          "name": "stderr"
        },
        {
          "output_type": "stream",
          "text": [
            "?\n"
          ],
          "name": "stdout"
        },
        {
          "output_type": "stream",
          "text": [
            "Sentence 3021:  80%|████████  | 3020/3753 [21:16<06:21,  1.92it/s]"
          ],
          "name": "stderr"
        },
        {
          "output_type": "stream",
          "text": [
            "?\n"
          ],
          "name": "stdout"
        },
        {
          "output_type": "stream",
          "text": [
            "Sentence 3032:  81%|████████  | 3031/3753 [21:22<05:02,  2.39it/s]"
          ],
          "name": "stderr"
        },
        {
          "output_type": "stream",
          "text": [
            "?\n"
          ],
          "name": "stdout"
        },
        {
          "output_type": "stream",
          "text": [
            "Sentence 3053:  81%|████████▏ | 3052/3753 [21:32<06:58,  1.67it/s]"
          ],
          "name": "stderr"
        },
        {
          "output_type": "stream",
          "text": [
            "?\n"
          ],
          "name": "stdout"
        },
        {
          "output_type": "stream",
          "text": [
            "Sentence 3072:  82%|████████▏ | 3071/3753 [21:39<03:15,  3.49it/s]"
          ],
          "name": "stderr"
        },
        {
          "output_type": "stream",
          "text": [
            "?\n"
          ],
          "name": "stdout"
        },
        {
          "output_type": "stream",
          "text": [
            "Sentence 3081:  82%|████████▏ | 3080/3753 [21:43<04:14,  2.65it/s]"
          ],
          "name": "stderr"
        },
        {
          "output_type": "stream",
          "text": [
            "?\n"
          ],
          "name": "stdout"
        },
        {
          "output_type": "stream",
          "text": [
            "Sentence 3138:  84%|████████▎ | 3137/3753 [22:06<04:02,  2.54it/s]"
          ],
          "name": "stderr"
        },
        {
          "output_type": "stream",
          "text": [
            "?\n"
          ],
          "name": "stdout"
        },
        {
          "output_type": "stream",
          "text": [
            "Sentence 3167:  84%|████████▍ | 3166/3753 [22:17<03:54,  2.50it/s]"
          ],
          "name": "stderr"
        },
        {
          "output_type": "stream",
          "text": [
            "?\n"
          ],
          "name": "stdout"
        },
        {
          "output_type": "stream",
          "text": [
            "Sentence 3197:  85%|████████▌ | 3196/3753 [22:27<02:42,  3.42it/s]"
          ],
          "name": "stderr"
        },
        {
          "output_type": "stream",
          "text": [
            "?\n"
          ],
          "name": "stdout"
        },
        {
          "output_type": "stream",
          "text": [
            "Sentence 3207:  85%|████████▌ | 3206/3753 [22:31<02:48,  3.24it/s]"
          ],
          "name": "stderr"
        },
        {
          "output_type": "stream",
          "text": [
            "?\n"
          ],
          "name": "stdout"
        },
        {
          "output_type": "stream",
          "text": [
            "Sentence 3213:  86%|████████▌ | 3212/3753 [22:33<02:29,  3.61it/s]"
          ],
          "name": "stderr"
        },
        {
          "output_type": "stream",
          "text": [
            "?\n"
          ],
          "name": "stdout"
        },
        {
          "output_type": "stream",
          "text": [
            "Sentence 3225:  86%|████████▌ | 3224/3753 [22:37<02:55,  3.02it/s]"
          ],
          "name": "stderr"
        },
        {
          "output_type": "stream",
          "text": [
            "?\n"
          ],
          "name": "stdout"
        },
        {
          "output_type": "stream",
          "text": [
            "Sentence 3235:  86%|████████▌ | 3234/3753 [22:40<03:32,  2.45it/s]"
          ],
          "name": "stderr"
        },
        {
          "output_type": "stream",
          "text": [
            "?\n"
          ],
          "name": "stdout"
        },
        {
          "output_type": "stream",
          "text": [
            "Sentence 3246:  86%|████████▋ | 3245/3753 [22:44<02:48,  3.01it/s]"
          ],
          "name": "stderr"
        },
        {
          "output_type": "stream",
          "text": [
            "?\n"
          ],
          "name": "stdout"
        },
        {
          "output_type": "stream",
          "text": [
            "Sentence 3252:  87%|████████▋ | 3251/3753 [22:46<03:54,  2.14it/s]"
          ],
          "name": "stderr"
        },
        {
          "output_type": "stream",
          "text": [
            "Loss: 0.6121928095817566\n"
          ],
          "name": "stdout"
        },
        {
          "output_type": "stream",
          "text": [
            "Sentence 3255:  87%|████████▋ | 3254/3753 [22:47<02:46,  3.00it/s]"
          ],
          "name": "stderr"
        },
        {
          "output_type": "stream",
          "text": [
            "?\n"
          ],
          "name": "stdout"
        },
        {
          "output_type": "stream",
          "text": [
            "Sentence 3263:  87%|████████▋ | 3262/3753 [22:51<03:43,  2.19it/s]"
          ],
          "name": "stderr"
        },
        {
          "output_type": "stream",
          "text": [
            "?\n"
          ],
          "name": "stdout"
        },
        {
          "output_type": "stream",
          "text": [
            "Sentence 3272:  87%|████████▋ | 3271/3753 [22:54<02:29,  3.22it/s]"
          ],
          "name": "stderr"
        },
        {
          "output_type": "stream",
          "text": [
            "?\n"
          ],
          "name": "stdout"
        },
        {
          "output_type": "stream",
          "text": [
            "Sentence 3304:  88%|████████▊ | 3303/3753 [23:08<03:42,  2.02it/s]"
          ],
          "name": "stderr"
        },
        {
          "output_type": "stream",
          "text": [
            "?\n"
          ],
          "name": "stdout"
        },
        {
          "output_type": "stream",
          "text": [
            "Sentence 3313:  88%|████████▊ | 3312/3753 [23:12<03:14,  2.26it/s]"
          ],
          "name": "stderr"
        },
        {
          "output_type": "stream",
          "text": [
            "?\n"
          ],
          "name": "stdout"
        },
        {
          "output_type": "stream",
          "text": [
            "Sentence 3318:  88%|████████▊ | 3317/3753 [23:15<03:34,  2.04it/s]"
          ],
          "name": "stderr"
        },
        {
          "output_type": "stream",
          "text": [
            "?\n"
          ],
          "name": "stdout"
        },
        {
          "output_type": "stream",
          "text": [
            "Sentence 3341:  89%|████████▉ | 3340/3753 [23:26<02:40,  2.58it/s]"
          ],
          "name": "stderr"
        },
        {
          "output_type": "stream",
          "text": [
            "?\n"
          ],
          "name": "stdout"
        },
        {
          "output_type": "stream",
          "text": [
            "Sentence 3365:  90%|████████▉ | 3364/3753 [23:34<02:51,  2.27it/s]"
          ],
          "name": "stderr"
        },
        {
          "output_type": "stream",
          "text": [
            "?\n"
          ],
          "name": "stdout"
        },
        {
          "output_type": "stream",
          "text": [
            "Sentence 3395:  90%|█████████ | 3394/3753 [23:44<02:08,  2.79it/s]"
          ],
          "name": "stderr"
        },
        {
          "output_type": "stream",
          "text": [
            "?\n"
          ],
          "name": "stdout"
        },
        {
          "output_type": "stream",
          "text": [
            "Sentence 3403:  91%|█████████ | 3402/3753 [23:48<02:27,  2.39it/s]"
          ],
          "name": "stderr"
        },
        {
          "output_type": "stream",
          "text": [
            "?\n"
          ],
          "name": "stdout"
        },
        {
          "output_type": "stream",
          "text": [
            "Sentence 3409:  91%|█████████ | 3408/3753 [23:49<01:52,  3.06it/s]"
          ],
          "name": "stderr"
        },
        {
          "output_type": "stream",
          "text": [
            "?\n"
          ],
          "name": "stdout"
        },
        {
          "output_type": "stream",
          "text": [
            "Sentence 3412:  91%|█████████ | 3411/3753 [23:51<02:18,  2.47it/s]"
          ],
          "name": "stderr"
        },
        {
          "output_type": "stream",
          "text": [
            "?\n"
          ],
          "name": "stdout"
        },
        {
          "output_type": "stream",
          "text": [
            "Sentence 3414:  91%|█████████ | 3413/3753 [23:52<02:10,  2.61it/s]"
          ],
          "name": "stderr"
        },
        {
          "output_type": "stream",
          "text": [
            "?\n"
          ],
          "name": "stdout"
        },
        {
          "output_type": "stream",
          "text": [
            "Sentence 3442:  92%|█████████▏| 3441/3753 [24:01<01:41,  3.09it/s]"
          ],
          "name": "stderr"
        },
        {
          "output_type": "stream",
          "text": [
            "?\n"
          ],
          "name": "stdout"
        },
        {
          "output_type": "stream",
          "text": [
            "Sentence 3443:  92%|█████████▏| 3442/3753 [24:02<01:54,  2.71it/s]"
          ],
          "name": "stderr"
        },
        {
          "output_type": "stream",
          "text": [
            "?\n"
          ],
          "name": "stdout"
        },
        {
          "output_type": "stream",
          "text": [
            "Sentence 3446:  92%|█████████▏| 3445/3753 [24:04<02:42,  1.90it/s]"
          ],
          "name": "stderr"
        },
        {
          "output_type": "stream",
          "text": [
            "?\n"
          ],
          "name": "stdout"
        },
        {
          "output_type": "stream",
          "text": [
            "Sentence 3476:  93%|█████████▎| 3475/3753 [24:14<01:17,  3.61it/s]"
          ],
          "name": "stderr"
        },
        {
          "output_type": "stream",
          "text": [
            "?\n"
          ],
          "name": "stdout"
        },
        {
          "output_type": "stream",
          "text": [
            "Sentence 3502:  93%|█████████▎| 3501/3753 [24:23<01:32,  2.72it/s]"
          ],
          "name": "stderr"
        },
        {
          "output_type": "stream",
          "text": [
            "Loss: 0.1740235686302185\n"
          ],
          "name": "stdout"
        },
        {
          "output_type": "stream",
          "text": [
            "Sentence 3519:  94%|█████████▎| 3518/3753 [24:29<01:15,  3.10it/s]"
          ],
          "name": "stderr"
        },
        {
          "output_type": "stream",
          "text": [
            "?\n"
          ],
          "name": "stdout"
        },
        {
          "output_type": "stream",
          "text": [
            "Sentence 3575:  95%|█████████▌| 3574/3753 [24:52<01:06,  2.70it/s]"
          ],
          "name": "stderr"
        },
        {
          "output_type": "stream",
          "text": [
            "?\n"
          ],
          "name": "stdout"
        },
        {
          "output_type": "stream",
          "text": [
            "Sentence 3587:  96%|█████████▌| 3586/3753 [24:57<01:13,  2.27it/s]"
          ],
          "name": "stderr"
        },
        {
          "output_type": "stream",
          "text": [
            "?\n"
          ],
          "name": "stdout"
        },
        {
          "output_type": "stream",
          "text": [
            "Sentence 3589:  96%|█████████▌| 3588/3753 [24:58<01:34,  1.75it/s]"
          ],
          "name": "stderr"
        },
        {
          "output_type": "stream",
          "text": [
            "?\n"
          ],
          "name": "stdout"
        },
        {
          "output_type": "stream",
          "text": [
            "Sentence 3665:  98%|█████████▊| 3664/3753 [25:28<00:30,  2.95it/s]"
          ],
          "name": "stderr"
        },
        {
          "output_type": "stream",
          "text": [
            "?\n"
          ],
          "name": "stdout"
        },
        {
          "output_type": "stream",
          "text": [
            "Sentence 3709:  99%|█████████▉| 3708/3753 [25:40<00:14,  3.10it/s]"
          ],
          "name": "stderr"
        },
        {
          "output_type": "stream",
          "text": [
            "?\n"
          ],
          "name": "stdout"
        },
        {
          "output_type": "stream",
          "text": [
            "Sentence 3750: 100%|█████████▉| 3749/3753 [25:52<00:01,  2.81it/s]"
          ],
          "name": "stderr"
        },
        {
          "output_type": "stream",
          "text": [
            "?\n"
          ],
          "name": "stdout"
        },
        {
          "output_type": "stream",
          "text": [
            "Sentence 3752: 100%|█████████▉| 3751/3753 [25:53<00:00,  2.42it/s]"
          ],
          "name": "stderr"
        },
        {
          "output_type": "stream",
          "text": [
            "Loss: 0.14921803772449493\n"
          ],
          "name": "stdout"
        },
        {
          "output_type": "stream",
          "text": [
            "Sentence 3753: 100%|██████████| 3753/3753 [25:54<00:00,  2.41it/s]\n"
          ],
          "name": "stderr"
        }
      ]
    },
    {
      "cell_type": "code",
      "metadata": {
        "colab": {
          "base_uri": "https://localhost:8080/"
        },
        "id": "xqv423zlN4vg",
        "outputId": "46920399-2ab4-4573-83b4-fe2e8c49d83e"
      },
      "source": [
        "print('{:.4f}'.format(uas_tst(model_BB, word_vocab, tag_vocab, dep_dev_english_data)))"
      ],
      "execution_count": null,
      "outputs": [
        {
          "output_type": "stream",
          "text": [
            "0.6553\n"
          ],
          "name": "stdout"
        }
      ]
    },
    {
      "cell_type": "code",
      "metadata": {
        "id": "2PMnB5rMI7pD"
      },
      "source": [
        "def uas_tst(modelo, vocab_words, vocab_tags, gold_data):\n",
        "    correct, total = 0, 0\n",
        "    for sentence in gold_data:\n",
        "      words,tags, heads = [], [], []\n",
        "\n",
        "      for word, tag, head in (sentence):\n",
        "        words.append(word)\n",
        "        tags.append(tag)\n",
        "        heads.append(head)\n",
        "      #print(words)\n",
        "      preds = predict_tst(modelo, vocab_words, vocab_tags, words, tags)\n",
        "      #print(preds)\n",
        "\n",
        "      for i in range(1,len(preds)):\n",
        "        if heads[i] == preds[i]:\n",
        "          correct +=1\n",
        "        total +=1\n",
        "\n",
        "    return correct/total\n",
        "\n",
        "def predict_tst(modelo, vocab_words, vocab_tags, words, tags):\n",
        "    for idx, (w, t) in enumerate(zip(words,tags)): #words string to words ids\n",
        "      if w in vocab_words:\n",
        "        words[idx] = vocab_words[w]\n",
        "      else:\n",
        "        words[idx] = vocab_words['<unk>']\n",
        "      if t in vocab_tags:\n",
        "        tags[idx] =vocab_tags[t]\n",
        "      else:\n",
        "        tags[idx] = vocab_tags['<pad>']\n",
        "\n",
        "\n",
        "    words = torch.LongTensor(words).unsqueeze(0)\n",
        "    tags = torch.LongTensor(tags).unsqueeze(0)\n",
        "\n",
        "    parser = ArcStandardParser()\n",
        "    (SH, LA, RA) = parser.MOVES\n",
        "    config = parser.initial_config(words.shape[1])\n",
        "    while not parser.is_final_config(config):\n",
        "      idx_feats = get_feats(config, words) #take features #idx_feats = get_feats(config, word_ids) #long_tensor([vs0, vs1, vs2, b0]))\n",
        "      #idx_feats = get_feats(config, words) #long_tensor([vs0, vs1, vs2, b0]))\n",
        "      idx_feats = idx_feats.unsqueeze(0)\n",
        "      valid_moves = parser.valid_moves(config)\n",
        "\n",
        "      with torch.no_grad():\n",
        "        output_move = torch.argmax(modelo.forward(words, tags, idx_feats)) #output_mlp = self.forward(words, tags, idx_feats)\n",
        "      if(output_move in valid_moves):\n",
        "        config = parser.next_config(config, output_move)\n",
        "      else:\n",
        "        config = parser.next_config(config, valid_moves[-1])\n",
        "\n",
        "    return config[2]"
      ],
      "execution_count": null,
      "outputs": []
    }
  ]
}